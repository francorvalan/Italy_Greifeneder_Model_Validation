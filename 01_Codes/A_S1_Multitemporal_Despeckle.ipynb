{
  "cells": [
    {
      "cell_type": "code",
      "execution_count": null,
      "metadata": {
        "id": "rQbHFhXo8wVJ"
      },
      "outputs": [],
      "source": [
        "#!pip install geemap\n",
        "# !pip install pycrs\n",
        "# !pip install pyshp\n",
        "# !pip install oeel"
      ]
    },
    {
      "cell_type": "code",
      "execution_count": 507,
      "metadata": {
        "colab": {
          "base_uri": "https://localhost:8080/",
          "height": 176
        },
        "id": "uwGL61Vdx1pY",
        "outputId": "6de2432b-e45d-47ef-c35e-b3bbc8d35c27"
      },
      "outputs": [
        {
          "data": {
            "text/html": [
              "<p>To authorize access needed by Earth Engine, open the following\n",
              "        URL in a web browser and follow the instructions:</p>\n",
              "        <p><a href=https://code.earthengine.google.com/client-auth?scopes=https%3A//www.googleapis.com/auth/earthengine%20https%3A//www.googleapis.com/auth/devstorage.full_control&request_id=WTtUYrKicVaDg8pW0Xlo2KVflOjrG-6cfxuM4nurBu4&tc=Y5f0awPB6YRzY4WBKIQmcsJ1MBZRJYzNecvE0vUuSCU&cc=-g5wlwzgDPp7qCGeSpJ3u3S-g5sFeE1EppUJusgDCj0>https://code.earthengine.google.com/client-auth?scopes=https%3A//www.googleapis.com/auth/earthengine%20https%3A//www.googleapis.com/auth/devstorage.full_control&request_id=WTtUYrKicVaDg8pW0Xlo2KVflOjrG-6cfxuM4nurBu4&tc=Y5f0awPB6YRzY4WBKIQmcsJ1MBZRJYzNecvE0vUuSCU&cc=-g5wlwzgDPp7qCGeSpJ3u3S-g5sFeE1EppUJusgDCj0</a></p>\n",
              "        <p>The authorization workflow will generate a code, which you should paste in the box below.</p>\n",
              "        "
            ],
            "text/plain": [
              "<IPython.core.display.HTML object>"
            ]
          },
          "metadata": {},
          "output_type": "display_data"
        },
        {
          "name": "stdout",
          "output_type": "stream",
          "text": [
            "\n",
            "Successfully saved authorization token.\n"
          ]
        }
      ],
      "source": [
        "from datetime import datetime \n",
        "#from google.colab import drive\n",
        "import os\n",
        "import ee\n",
        "import geemap\n",
        "import pycrs\n",
        "geemap.ee_initialize()\n",
        "ee.Authenticate()"
      ]
    },
    {
      "cell_type": "code",
      "execution_count": 6,
      "metadata": {
        "id": "XoVBGwgNx3s2"
      },
      "outputs": [
        {
          "data": {
            "application/vnd.jupyter.widget-view+json": {
              "model_id": "654b15b56a5249f2997347079ce176ed",
              "version_major": 2,
              "version_minor": 0
            },
            "text/plain": [
              "Map(center=[20, 0], controls=(WidgetControl(options=['position', 'transparent_bg'], widget=HBox(children=(Togg…"
            ]
          },
          "execution_count": 6,
          "metadata": {},
          "output_type": "execute_result"
        }
      ],
      "source": [
        "Map = geemap.Map()\n",
        "Map"
      ]
    },
    {
      "cell_type": "code",
      "execution_count": 515,
      "metadata": {
        "id": "xSYmErvgyBPT"
      },
      "outputs": [
        {
          "data": {
            "application/vnd.jupyter.widget-view+json": {
              "model_id": "654b15b56a5249f2997347079ce176ed",
              "version_major": 2,
              "version_minor": 0
            },
            "text/plain": [
              "Map(bottom=740441.0, center=[46.70439176168795, 10.627580048939867], controls=(ZoomControl(options=['position'…"
            ]
          },
          "execution_count": 515,
          "metadata": {},
          "output_type": "execute_result"
        }
      ],
      "source": [
        "# Load Soil Moistures Sites (SMS)\n",
        "SM_Sites = geemap.shp_to_ee('../02_Data/03_Vector_data/Station_coordinates.shp')\n",
        "# Making a poligon over the extention of the Soil Moistures Sites\n",
        "ROI = SM_Sites.geometry().bounds().buffer(1000) \n",
        "area_ROI = ROI.area()\n",
        "\n",
        "# Center Region of Interst\n",
        "Map.centerObject(SM_Sites,12)\n",
        "Map.setOptions(\"SATELLITE\")\n",
        "Map.addLayer(ROI,{},'ROI')\n",
        "vis_params = {\n",
        "    'color': 'red',\n",
        "    'colorOpacity': 1,\n",
        "    'pointSize': 1,\n",
        "    'pointShape': 'circle',\n",
        "    'width': 1,\n",
        "    'lineType': 'solid',\n",
        "    'fillColorOpacity': 0.66,\n",
        "}\n",
        "Map.addLayer(SM_Sites, vis_params, 'Sites')\n",
        "\n",
        "Map"
      ]
    },
    {
      "attachments": {},
      "cell_type": "markdown",
      "metadata": {
        "id": "3lXkq8z1y11Z"
      },
      "source": [
        "$J_{k}(x,y) =\\frac{I_{k}}{N} \\sum_{i=1}^{N} \\frac{I_{i}(x,y))}{I_{i}} , 1\\leq k\\leq N.$\n",
        "Where:\n",
        "  - J is the corrected intensity at the pixel location (x, y) for image k\n",
        "  - I original pixel value\n",
        "  - i=\n",
        "  "
      ]
    },
    {
      "cell_type": "code",
      "execution_count": 577,
      "metadata": {},
      "outputs": [
        {
          "data": {
            "text/html": [
              "<div><style>:root {\n",
              "  --font-color-primary: var(--jp-content-font-color0, rgba(0, 0, 0, 1));\n",
              "  --font-color-secondary: var(--jp-content-font-color2, rgba(0, 0, 0, 0.6));\n",
              "  --font-color-accent: rgba(123, 31, 162, 1);\n",
              "  --border-color: var(--jp-border-color2, #e0e0e0);\n",
              "  --background-color: var(--jp-layout-color0, white);\n",
              "  --background-color-row-even: var(--jp-layout-color1, white);\n",
              "  --background-color-row-odd: var(--jp-layout-color2, #eeeeee);\n",
              "}\n",
              "\n",
              "html[theme=\"dark\"],\n",
              "body[data-theme=\"dark\"],\n",
              "body.vscode-dark {\n",
              "  --font-color-primary: rgba(255, 255, 255, 1);\n",
              "  --font-color-secondary: rgba(255, 255, 255, 0.6);\n",
              "  --font-color-accent: rgb(173, 132, 190);\n",
              "  --border-color: #2e2e2e;\n",
              "  --background-color: #111111;\n",
              "  --background-color-row-even: #111111;\n",
              "  --background-color-row-odd: #313131;\n",
              "}\n",
              "\n",
              ".ee {\n",
              "  padding: 1em;\n",
              "  line-height: 1.5em;\n",
              "  min-width: 300px;\n",
              "  max-width: 1200px;\n",
              "  overflow-y: scroll;\n",
              "  max-height: 600px;\n",
              "  border: 1px solid var(--border-color);\n",
              "  font-family: monospace;\n",
              "}\n",
              "\n",
              ".ee li {\n",
              "  list-style-type: none;\n",
              "}\n",
              "\n",
              ".ee ul {\n",
              "  padding-left: 1.5em !important;\n",
              "  margin: 0;\n",
              "}\n",
              "\n",
              ".ee > ul {\n",
              "  padding-left: 0 !important;\n",
              "}\n",
              "\n",
              ".ee-open,\n",
              ".ee-shut {\n",
              "  color: var(--font-color-secondary);\n",
              "  cursor: pointer;\n",
              "  margin: 0;\n",
              "}\n",
              "\n",
              ".ee-open:hover,\n",
              ".ee-shut:hover {\n",
              "  color: var(--font-color-primary);\n",
              "}\n",
              "\n",
              ".ee-k {\n",
              "  color: var(--font-color-accent);\n",
              "  margin-right: 6px;\n",
              "}\n",
              "\n",
              ".ee-v {\n",
              "  color: var(--font-color-primary);\n",
              "}\n",
              "\n",
              ".ee-toggle {\n",
              "  display: none;\n",
              "}\n",
              "\n",
              ".ee-shut + ul {\n",
              "  display: none;\n",
              "}\n",
              "\n",
              ".ee-open + ul {\n",
              "  display: block;\n",
              "}\n",
              "\n",
              ".ee-shut::before {\n",
              "  display: inline-block;\n",
              "  content: \"▼\";\n",
              "  margin-right: 6px;\n",
              "  transform: rotate(-90deg);\n",
              "  transition: transform 0.2s;\n",
              "}\n",
              "\n",
              ".ee-open::before {\n",
              "  transform: rotate(0deg);\n",
              "  display: inline-block;\n",
              "  content: \"▼\";\n",
              "  margin-right: 6px;\n",
              "  transition: transform 0.2s;\n",
              "}\n",
              "</style><div class='ee'><ul><li><span class='ee-v'>VV_6_month_temporalfilter</span></li></ul></div><script>function toggleHeader() {\n",
              "    const parent = this.parentElement;\n",
              "    parent.className = parent.className === \"ee-open\" ? \"ee-shut\" : \"ee-open\";\n",
              "}\n",
              "\n",
              "for (let c of document.getElementsByClassName(\"ee-toggle\")) {\n",
              "    c.onclick = toggleHeader;\n",
              "}</script></div>"
            ],
            "text/plain": [
              "<ee.computedobject.ComputedObject at 0x2231c9fdbe0>"
            ]
          },
          "execution_count": 577,
          "metadata": {},
          "output_type": "execute_result"
        }
      ],
      "source": [
        "# Multitemporal Despeckle function \n",
        "def multitemporalDespeckle(images, radius, units, opt_timeWindow=None):\n",
        "        \"\"\"\n",
        "        Function for multi-temporal despeckling\n",
        "            - images: S1 Image Collection\n",
        "            - radius: radius of the square Kernel\n",
        "            - units: unit of radius the Kernel\n",
        "            - opt_timeWindow: Temporal time window\n",
        "        \n",
        "        Note: this is a simplified function of the original (Quegan, 2000),where the correlation \n",
        "        is considered null.\n",
        "        In this sense, this filter must be applied only in areas with temporal changes, not bare-soil and cities. \n",
        "        \"\"\"\n",
        "        #bandNames = ee.Image(images.first()).bandNames()\n",
        "        #NewbandNames = bandNames.map(lambda b: ee.String(b).cat('_tmpfilter'))\n",
        "        #bandNamesMean = bandNames.map(lambda b: ee.String(b).cat('_mean'))\n",
        "        #bandNamesRatio = bandNames.map(lambda b: ee.String(b).cat('_ratio'))\n",
        "        \n",
        "        def mapMeanSpace(i):\n",
        "            pol_name = ee.String(i.bandNames().get(0))\n",
        "            spatial_filter_name = pol_name.cat('_multilook')\n",
        "            ## bandNamesMean_pol = pol_name.map(lambda b: ee.String(b).cat('_mean'))\n",
        "            ratio_name = pol_name.cat('_ratio')\n",
        "            \n",
        "            reducer = ee.Reducer.mean()\n",
        "            kernel = ee.Kernel.square(radius, units)\n",
        "            mean = i.reduceNeighborhood(reducer, kernel).rename(spatial_filter_name) # multilook (average)\n",
        "            ratio = i.divide(mean).rename(ratio_name) # Intensity/ Imean\n",
        "            return (i.addBands(mean).addBands(ratio))\n",
        "\n",
        "        if opt_timeWindow == None:\n",
        "            timeWindow = dict(before=-3, after=3, units='month')\n",
        "        else:\n",
        "            timeWindow = opt_timeWindow\n",
        "            \n",
        "        \n",
        "        # compute spatial average (kernel multilook) for all images\n",
        "        \n",
        "        meanSpaceVV = images.select(\"VV\").map(mapMeanSpace) # Spatial filter in VV\n",
        "        meanSpaceVH= images.select(\"VH\").map(mapMeanSpace) # Spatial filter in VH\n",
        "        meanSpace = meanSpaceVV.combine(meanSpaceVH)\n",
        "        \n",
        "        # computes a multi-temporal despeckle function for a single image\n",
        "\n",
        "        def multitemporalDespeckleSingle(image):\n",
        "            t = image.date() # get image date\n",
        "            fro = t.advance(ee.Number(timeWindow['before']), timeWindow['units']) # temporal window end \n",
        "            to = t.advance(ee.Number(timeWindow['after']), timeWindow['units']) # temporal window start\n",
        "            \n",
        "            pol_band_name = ee.String(image.bandNames().get(0))\n",
        "            threshold = ee.String(ee.Number(timeWindow['after']))#.getInfo()#.get(0)\n",
        "            # .cat(ee.String(ee.Number(threshold)))\n",
        "            NewbandNames = pol_band_name.cat(\"_\").cat(ee.String(ee.Number(threshold))).cat(\"_\").cat(ee.String((timeWindow['units']))).cat(\"_temporalfilter\")\n",
        "            #NewbandNames = (pol_band_name.cat(\"_temporalfilter\"))\\\n",
        "            #    .cat(\"asd\")#.cat(ee.String(timeWindow['after']))#.cat(\"_\").cat(timeWindow['units'])\n",
        "            # MeanSpace2 is an Image Collection of all the Ratios within the time window \n",
        "            meanSpace2 = ee.ImageCollection(image.select(\".._ratio\")).filterDate(fro, to) \\\n",
        "                .filter(ee.Filter.eq('relativeOrbitNumber_start', image.get('relativeOrbitNumber_start')))\n",
        "\n",
        "            Ik = image.select(\".._multilook\") # Ik\n",
        "            Img_temporal_filtered = Ik.divide(meanSpace2.count()).multiply(meanSpace2.sum())\\\n",
        "                    .rename(NewbandNames)\n",
        "            return image.addBands(Img_temporal_filtered).set('system:time_start',image.get('system:time_start'))\n",
        "        # .select(\"VV.*\") # Select the VV polarization bands\n",
        "        \n",
        "        Temp_filter_VV = meanSpace.select(\"VV.*\").map(multitemporalDespeckleSingle) # Temporal filter in VV\n",
        "        Temp_filter_VH= meanSpace.select(\"VH.*\").map(multitemporalDespeckleSingle) # Temporal filter in VH\n",
        "        meanSpace2 = Temp_filter_VV.combine(Temp_filter_VH)\n",
        "        \n",
        "        #return meanSpace.map(multitemporalDespeckleSingle)\n",
        "        #threshold = ee.String(ee.Number(timeWindow['after'])).getInfo()#.get(0)\n",
        "        #print(ee.String(ee.Number(threshold)).cat(\"asd\"))\n",
        "        # print(((\"6asd\").cat((threshold))).getInfo())\n",
        "        #print(ee.String(\"asd\").cat(threshold))\n",
        "        #print(ee.String(\"asd\").cat(ee.String(\"asd\")))\n",
        "        return (meanSpace2)\n",
        "  \n",
        "# Making a function in order to apply the same filter over multiples ImageCollection (IC)\n",
        "def filterImages(collection, startDate, endDate, region): \n",
        "  return collection.filterDate(startDate, endDate).filterBounds(region)\n",
        "\n",
        "S1_temporal_multilooked = multitemporalDespeckle(S1, radius, units,\n",
        "                                                       {'before': -6, 'after': 6, 'units': 'month'})\n"
      ]
    },
    {
      "cell_type": "code",
      "execution_count": 599,
      "metadata": {},
      "outputs": [
        {
          "data": {
            "text/html": [
              "<div><style>:root {\n",
              "  --font-color-primary: var(--jp-content-font-color0, rgba(0, 0, 0, 1));\n",
              "  --font-color-secondary: var(--jp-content-font-color2, rgba(0, 0, 0, 0.6));\n",
              "  --font-color-accent: rgba(123, 31, 162, 1);\n",
              "  --border-color: var(--jp-border-color2, #e0e0e0);\n",
              "  --background-color: var(--jp-layout-color0, white);\n",
              "  --background-color-row-even: var(--jp-layout-color1, white);\n",
              "  --background-color-row-odd: var(--jp-layout-color2, #eeeeee);\n",
              "}\n",
              "\n",
              "html[theme=\"dark\"],\n",
              "body[data-theme=\"dark\"],\n",
              "body.vscode-dark {\n",
              "  --font-color-primary: rgba(255, 255, 255, 1);\n",
              "  --font-color-secondary: rgba(255, 255, 255, 0.6);\n",
              "  --font-color-accent: rgb(173, 132, 190);\n",
              "  --border-color: #2e2e2e;\n",
              "  --background-color: #111111;\n",
              "  --background-color-row-even: #111111;\n",
              "  --background-color-row-odd: #313131;\n",
              "}\n",
              "\n",
              ".ee {\n",
              "  padding: 1em;\n",
              "  line-height: 1.5em;\n",
              "  min-width: 300px;\n",
              "  max-width: 1200px;\n",
              "  overflow-y: scroll;\n",
              "  max-height: 600px;\n",
              "  border: 1px solid var(--border-color);\n",
              "  font-family: monospace;\n",
              "}\n",
              "\n",
              ".ee li {\n",
              "  list-style-type: none;\n",
              "}\n",
              "\n",
              ".ee ul {\n",
              "  padding-left: 1.5em !important;\n",
              "  margin: 0;\n",
              "}\n",
              "\n",
              ".ee > ul {\n",
              "  padding-left: 0 !important;\n",
              "}\n",
              "\n",
              ".ee-open,\n",
              ".ee-shut {\n",
              "  color: var(--font-color-secondary);\n",
              "  cursor: pointer;\n",
              "  margin: 0;\n",
              "}\n",
              "\n",
              ".ee-open:hover,\n",
              ".ee-shut:hover {\n",
              "  color: var(--font-color-primary);\n",
              "}\n",
              "\n",
              ".ee-k {\n",
              "  color: var(--font-color-accent);\n",
              "  margin-right: 6px;\n",
              "}\n",
              "\n",
              ".ee-v {\n",
              "  color: var(--font-color-primary);\n",
              "}\n",
              "\n",
              ".ee-toggle {\n",
              "  display: none;\n",
              "}\n",
              "\n",
              ".ee-shut + ul {\n",
              "  display: none;\n",
              "}\n",
              "\n",
              ".ee-open + ul {\n",
              "  display: block;\n",
              "}\n",
              "\n",
              ".ee-shut::before {\n",
              "  display: inline-block;\n",
              "  content: \"▼\";\n",
              "  margin-right: 6px;\n",
              "  transform: rotate(-90deg);\n",
              "  transition: transform 0.2s;\n",
              "}\n",
              "\n",
              ".ee-open::before {\n",
              "  transform: rotate(0deg);\n",
              "  display: inline-block;\n",
              "  content: \"▼\";\n",
              "  margin-right: 6px;\n",
              "  transition: transform 0.2s;\n",
              "}\n",
              "</style><div class='ee'><ul><li><label class='ee-shut'>List (8 elements)<input type='checkbox' class='ee-toggle'></label><ul><li><span class='ee-k'>0:</span><span class='ee-v'>VV</span></li><li><span class='ee-k'>1:</span><span class='ee-v'>VV_multilook</span></li><li><span class='ee-k'>2:</span><span class='ee-v'>VV_ratio</span></li><li><span class='ee-k'>3:</span><span class='ee-v'>VV_12_month_temporalfilter</span></li><li><span class='ee-k'>4:</span><span class='ee-v'>VH</span></li><li><span class='ee-k'>5:</span><span class='ee-v'>VH_multilook</span></li><li><span class='ee-k'>6:</span><span class='ee-v'>VH_ratio</span></li><li><span class='ee-k'>7:</span><span class='ee-v'>VH_12_month_temporalfilter</span></li></ul></li></ul></div><script>function toggleHeader() {\n",
              "    const parent = this.parentElement;\n",
              "    parent.className = parent.className === \"ee-open\" ? \"ee-shut\" : \"ee-open\";\n",
              "}\n",
              "\n",
              "for (let c of document.getElementsByClassName(\"ee-toggle\")) {\n",
              "    c.onclick = toggleHeader;\n",
              "}</script></div>"
            ],
            "text/plain": [
              "<ee.ee_list.List at 0x2231ca7e370>"
            ]
          },
          "execution_count": 599,
          "metadata": {},
          "output_type": "execute_result"
        }
      ],
      "source": [
        "start_date=\"2022-01-01\"\n",
        "end_date=\"2023-05-27\"\n",
        "S1 = ee.ImageCollection(\"COPERNICUS/S1_GRD\")\n",
        "S1 = filterImages(S1, start_date, end_date, ROI)\n",
        "radius = 3\n",
        "units = 'pixels'\n",
        "\n",
        "# S1_temporal_multilooked 12 months temporal window\n",
        "S1_temporal_multilooked_12= multitemporalDespeckle(S1, radius, units,\n",
        "                                                       {'before': -12, 'after': 12, 'units': 'month'})\n",
        "# S1_temporal_multilooked 12 months temporal window\n",
        "S1_temporal_multilooked_6= multitemporalDespeckle(S1, radius, units,\n",
        "                                                       {'before': -6, 'after': 6, 'units': 'month'})\n",
        "# S1_temporal_multilooked 12 months temporal window\n",
        "S1_temporal_multilooked_3= multitemporalDespeckle(S1, radius, units,\n",
        "                                                       {'before': -3, 'after': 3, 'units': 'month'})\n",
        "# S1_temporal_multilooked 12 months temporal window\n",
        "S1_temporal_multilooked_1= multitemporalDespeckle(S1, radius, units,\n",
        "                                                       {'before': -1, 'after': 1, 'units': 'month'})"
      ]
    },
    {
      "cell_type": "code",
      "execution_count": 297,
      "metadata": {},
      "outputs": [],
      "source": [
        "Sites= (SM_Sites.aggregate_array('Station_na'))\n",
        "output_results = \"../02_Data/06_GEE_Data_extractions\""
      ]
    },
    {
      "cell_type": "code",
      "execution_count": 309,
      "metadata": {},
      "outputs": [],
      "source": [
        "# Creation of a function for sampling and writing of results\n",
        "def band_samplig(ImageCollection,Sites,Product_name,Individual=True):\n",
        "  '''\n",
        "  This function makes a sampling of each Site for each band in the ImageCollection.\n",
        "\n",
        "  '''\n",
        "  results_dir = output_results\n",
        "  if not os.path.exists(results_dir): os.mkdir(results_dir)\n",
        "  Sites = SM_Sites.aggregate_array('Station_na')\n",
        "  Band_names= ImageCollection.first().bandNames()\n",
        "  for B in range(Band_names.size().getInfo()):\n",
        "    start = datetime.now()\n",
        "       \n",
        "    # Band selection\n",
        "    Band = ImageCollection.select(Band_names.get(B).getInfo())#.toBands()\n",
        "    if Individual:\n",
        "      for i in range(Sites.size().getInfo()): \n",
        "        output_dir = f'{results_dir}/{Product_name}/{Band_names.get(B).getInfo()}'\n",
        "        os.makedirs(output_dir,exist_ok=True)\n",
        "        ID = Sites.get(i).getInfo()\n",
        "        out_csv = os.path.join(output_dir, f'Site_{ID}.csv')\n",
        "        print(f'Banda {Band_names.get(B).getInfo()}, Site ID: {ID}, Site {i} de {Sites.size().getInfo()}')\n",
        "        # Filter Site\n",
        "        Site_i = SM_Sites.filter(ee.Filter.eq(\"Station_na\",ID))\n",
        "        # Fiter S1 Bounds with the Site 1\n",
        "        Band_site_i = Band.filterBounds(Site_i).toBands()\n",
        "        geemap.extract_values_to_points(Site_i, Band_site_i, out_csv,verbose=False)\n",
        "    else: \n",
        "      output_dir = f'{results_dir}/{Product_name}/{Band_names.get(B).getInfo()}'\n",
        "      os.makedirs(output_dir,exist_ok=True)\n",
        "      out_csv = os.path.join(output_dir, f'Sites_{Band_names.get(B).getInfo()}.csv')\n",
        "      Band = Band.toBands()\n",
        "      #Band_B = ee.ImageCollection(Band)\n",
        "      #geemap.extract_values_to_points(Sites, Band, out_csv,verbose=False)\n",
        "      #Site_i = SM_Sites.filter(ee.Filter.eq(\"Station_na\",'B1'))\n",
        "      geemap.extract_values_to_points(SM_Sites, Band, out_fc=out_csv, scale=30, \\\n",
        "        crs=None, crsTransform=None, tileScale=1, stats_type='FIRST', \\\n",
        "        timeout=1200, proxies=None)\n",
        "    print('Duration: {}'.format(datetime.now()-start))"
      ]
    },
    {
      "cell_type": "code",
      "execution_count": 606,
      "metadata": {},
      "outputs": [
        {
          "name": "stdout",
          "output_type": "stream",
          "text": [
            "Generating URL ...\n",
            "Downloading data from https://earthengine.googleapis.com/v1alpha/projects/earthengine-legacy/tables/500167389584401c36cdedbe62b7090a-b6ee2f5a1c9a5628a8ac66310fa9d6ab:getFeatures\n",
            "Please wait ...\n",
            "Data downloaded to d:\\Documents\\Fran\\MAIE\\14_Tutoria_de_investigacion\\A_Proyects\\Italy_Greifeneder_Model_Validation\\02_Data\\06_GEE_Data_extractions\\Sentinel_1\\VV_12_month_temporalfilter\\Sites_VV_12_month_temporalfilter.csv\n",
            "Duration: 0:00:34.291714\n",
            "Generating URL ...\n",
            "Downloading data from https://earthengine.googleapis.com/v1alpha/projects/earthengine-legacy/tables/390f8152d0db38944ec7ca57549b3c41-c5354e092a2547c96a63983e11dc85b8:getFeatures\n",
            "Please wait ...\n",
            "Data downloaded to d:\\Documents\\Fran\\MAIE\\14_Tutoria_de_investigacion\\A_Proyects\\Italy_Greifeneder_Model_Validation\\02_Data\\06_GEE_Data_extractions\\Sentinel_1\\VH_12_month_temporalfilter\\Sites_VH_12_month_temporalfilter.csv\n",
            "Duration: 0:00:18.245068\n",
            "Generating URL ...\n",
            "Downloading data from https://earthengine.googleapis.com/v1alpha/projects/earthengine-legacy/tables/d1a14b1d43e0cc2cc51ef4b289e60325-31d32e5a5d3f5ceca08695d330cbe813:getFeatures\n",
            "Please wait ...\n",
            "Data downloaded to d:\\Documents\\Fran\\MAIE\\14_Tutoria_de_investigacion\\A_Proyects\\Italy_Greifeneder_Model_Validation\\02_Data\\06_GEE_Data_extractions\\Sentinel_1\\VV_6_month_temporalfilter\\Sites_VV_6_month_temporalfilter.csv\n",
            "Duration: 0:00:15.954908\n",
            "Generating URL ...\n",
            "Downloading data from https://earthengine.googleapis.com/v1alpha/projects/earthengine-legacy/tables/1b5a2887824f915370aae446cb0ec99b-e80b9a3dd6a2bb3e287ec4dc29df8c6a:getFeatures\n",
            "Please wait ...\n",
            "Data downloaded to d:\\Documents\\Fran\\MAIE\\14_Tutoria_de_investigacion\\A_Proyects\\Italy_Greifeneder_Model_Validation\\02_Data\\06_GEE_Data_extractions\\Sentinel_1\\VH_6_month_temporalfilter\\Sites_VH_6_month_temporalfilter.csv\n",
            "Duration: 0:00:23.122533\n",
            "Generating URL ...\n",
            "Downloading data from https://earthengine.googleapis.com/v1alpha/projects/earthengine-legacy/tables/adfc495ac4165be071a5f065e1933ad9-05d078adef8c523ca87124b12e9790b5:getFeatures\n",
            "Please wait ...\n",
            "Data downloaded to d:\\Documents\\Fran\\MAIE\\14_Tutoria_de_investigacion\\A_Proyects\\Italy_Greifeneder_Model_Validation\\02_Data\\06_GEE_Data_extractions\\Sentinel_1\\VV_3_month_temporalfilter\\Sites_VV_3_month_temporalfilter.csv\n",
            "Duration: 0:00:26.198571\n"
          ]
        }
      ],
      "source": [
        "#,'VV_multilook','VH_multilook','VV_temporalfilter','VH_temporalfilter'\n",
        "band_samplig(S1_temporal_multilooked_1.select(['VV','VH','VV_multilook','VH_multilook']),\\\n",
        "    SM_Sites,'Sentinel_1',False)\n",
        "band_samplig(S1_temporal_multilooked_12.select(['.*temporalfilter']),\\\n",
        "    SM_Sites,'Sentinel_1',False)\n",
        "band_samplig(S1_temporal_multilooked_6.select(['.*temporalfilter']),\\\n",
        "    SM_Sites,'Sentinel_1',False)\n",
        "band_samplig(S1_temporal_multilooked_3.select(['.*temporalfilter']),\\\n",
        "    SM_Sites,'Sentinel_1',False)\n",
        "band_samplig(S1_temporal_multilooked_1.select(['.*temporalfilter']),\\\n",
        "    SM_Sites,'Sentinel_1',False)"
      ]
    },
    {
      "cell_type": "code",
      "execution_count": null,
      "metadata": {},
      "outputs": [],
      "source": []
    }
  ],
  "metadata": {
    "colab": {
      "provenance": []
    },
    "kernelspec": {
      "display_name": "Python 3",
      "name": "python3"
    },
    "language_info": {
      "codemirror_mode": {
        "name": "ipython",
        "version": 3
      },
      "file_extension": ".py",
      "mimetype": "text/x-python",
      "name": "python",
      "nbconvert_exporter": "python",
      "pygments_lexer": "ipython3",
      "version": "3.9.10"
    }
  },
  "nbformat": 4,
  "nbformat_minor": 0
}
