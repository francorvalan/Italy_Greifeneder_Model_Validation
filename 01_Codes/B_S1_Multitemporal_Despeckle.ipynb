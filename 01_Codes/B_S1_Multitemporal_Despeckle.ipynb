{
  "cells": [
    {
      "cell_type": "code",
      "execution_count": null,
      "metadata": {
        "id": "rQbHFhXo8wVJ"
      },
      "outputs": [],
      "source": [
        "#!pip install geemap\n",
        "# !pip install pycrs\n",
        "# !pip install pyshp\n",
        "# !pip install oeel"
      ]
    },
    {
      "cell_type": "code",
      "execution_count": 2,
      "metadata": {
        "colab": {
          "base_uri": "https://localhost:8080/",
          "height": 176
        },
        "id": "uwGL61Vdx1pY",
        "outputId": "6de2432b-e45d-47ef-c35e-b3bbc8d35c27"
      },
      "outputs": [
        {
          "data": {
            "text/html": [
              "<p>To authorize access needed by Earth Engine, open the following\n",
              "        URL in a web browser and follow the instructions:</p>\n",
              "        <p><a href=https://code.earthengine.google.com/client-auth?scopes=https%3A//www.googleapis.com/auth/earthengine%20https%3A//www.googleapis.com/auth/devstorage.full_control&request_id=wtpjsAKk1Eb8NqjevWIB9npToKq6s47hhcL5Km_5edU&tc=C6_D0wUfGiqMKLcsVpPc2XJw6yx0KaY54PfY0xqVRUs&cc=aD92ae7e__M7QH4TxyiW6QCN_X8q6WKzkLVufucW7ig>https://code.earthengine.google.com/client-auth?scopes=https%3A//www.googleapis.com/auth/earthengine%20https%3A//www.googleapis.com/auth/devstorage.full_control&request_id=wtpjsAKk1Eb8NqjevWIB9npToKq6s47hhcL5Km_5edU&tc=C6_D0wUfGiqMKLcsVpPc2XJw6yx0KaY54PfY0xqVRUs&cc=aD92ae7e__M7QH4TxyiW6QCN_X8q6WKzkLVufucW7ig</a></p>\n",
              "        <p>The authorization workflow will generate a code, which you should paste in the box below.</p>\n",
              "        "
            ],
            "text/plain": [
              "<IPython.core.display.HTML object>"
            ]
          },
          "metadata": {},
          "output_type": "display_data"
        },
        {
          "name": "stdout",
          "output_type": "stream",
          "text": [
            "\n",
            "Successfully saved authorization token.\n"
          ]
        }
      ],
      "source": [
        "from datetime import datetime \n",
        "#from google.colab import drive\n",
        "import os\n",
        "import ee\n",
        "import geemap\n",
        "import pycrs\n",
        "geemap.ee_initialize()\n",
        "ee.Authenticate()"
      ]
    },
    {
      "cell_type": "code",
      "execution_count": 3,
      "metadata": {
        "id": "XoVBGwgNx3s2"
      },
      "outputs": [
        {
          "data": {
            "application/vnd.jupyter.widget-view+json": {
              "model_id": "21ea91e08b8747b2b6a038afb3dd947d",
              "version_major": 2,
              "version_minor": 0
            },
            "text/plain": [
              "Map(center=[20, 0], controls=(WidgetControl(options=['position', 'transparent_bg'], widget=HBox(children=(Togg…"
            ]
          },
          "execution_count": 3,
          "metadata": {},
          "output_type": "execute_result"
        }
      ],
      "source": [
        "Map = geemap.Map()\n",
        "Map"
      ]
    },
    {
      "cell_type": "code",
      "execution_count": 4,
      "metadata": {
        "id": "xSYmErvgyBPT"
      },
      "outputs": [
        {
          "data": {
            "application/vnd.jupyter.widget-view+json": {
              "model_id": "21ea91e08b8747b2b6a038afb3dd947d",
              "version_major": 2,
              "version_minor": 0
            },
            "text/plain": [
              "Map(bottom=417.0, center=[46.708955316924424, 10.693252538661627], controls=(ZoomControl(options=['position', …"
            ]
          },
          "execution_count": 4,
          "metadata": {},
          "output_type": "execute_result"
        }
      ],
      "source": [
        "# Load Soil Moistures Sites (SMS)\n",
        "SM_Sites = geemap.shp_to_ee('../02_Data/03_Vector_data/Station_coordinates.shp')\n",
        "# Making a poligon over the extention of the Soil Moistures Sites\n",
        "ROI = SM_Sites.geometry().bounds().buffer(1000) \n",
        "area_ROI = ROI.area()\n",
        "\n",
        "# Center Region of Interst\n",
        "Map.centerObject(SM_Sites,12)\n",
        "Map.setOptions(\"SATELLITE\")\n",
        "Map.addLayer(ROI,{},'ROI')\n",
        "vis_params = {\n",
        "    'color': 'red',\n",
        "    'colorOpacity': 1,\n",
        "    'pointSize': 1,\n",
        "    'pointShape': 'circle',\n",
        "    'width': 1,\n",
        "    'lineType': 'solid',\n",
        "    'fillColorOpacity': 0.66,\n",
        "}\n",
        "Map.addLayer(SM_Sites, vis_params, 'Sites')\n",
        "\n",
        "Map"
      ]
    },
    {
      "attachments": {},
      "cell_type": "markdown",
      "metadata": {
        "id": "3lXkq8z1y11Z"
      },
      "source": [
        "$J_{k}(x,y) =\\frac{I_{k}}{N} \\sum_{i=1}^{N} \\frac{I_{i}(x,y))}{I_{i}} , 1\\leq k\\leq N.$\n",
        "Where:\n",
        "  - J is the corrected intensity at the pixel location (x, y) for image k\n",
        "  - I original pixel value\n",
        "  - i=\n",
        "  "
      ]
    },
    {
      "cell_type": "code",
      "execution_count": 199,
      "metadata": {},
      "outputs": [
        {
          "ename": "EEException",
          "evalue": "A mapped function's arguments cannot be used in client-side operations",
          "output_type": "error",
          "traceback": [
            "\u001b[1;31m---------------------------------------------------------------------------\u001b[0m",
            "\u001b[1;31mEEException\u001b[0m                               Traceback (most recent call last)",
            "\u001b[1;32md:\\Documents\\Fran\\MAIE\\14_Tutoria_de_investigacion\\A_Proyects\\Italy_Greifeneder_Model_Validation\\01_Codes\\B_S1_Multitemporal_Despeckle.ipynb Cell 6\u001b[0m in \u001b[0;36m<module>\u001b[1;34m\u001b[0m\n\u001b[0;32m     <a href='vscode-notebook-cell:/d%3A/Documents/Fran/MAIE/14_Tutoria_de_investigacion/A_Proyects/Italy_Greifeneder_Model_Validation/01_Codes/B_S1_Multitemporal_Despeckle.ipynb#W5sZmlsZQ%3D%3D?line=98'>99</a>\u001b[0m \u001b[39mdef\u001b[39;00m \u001b[39mfilterImages\u001b[39m(collection, startDate, endDate, region): \n\u001b[0;32m    <a href='vscode-notebook-cell:/d%3A/Documents/Fran/MAIE/14_Tutoria_de_investigacion/A_Proyects/Italy_Greifeneder_Model_Validation/01_Codes/B_S1_Multitemporal_Despeckle.ipynb#W5sZmlsZQ%3D%3D?line=99'>100</a>\u001b[0m   \u001b[39mreturn\u001b[39;00m collection\u001b[39m.\u001b[39mfilterDate(startDate, endDate)\u001b[39m.\u001b[39mfilterBounds(region)\n\u001b[1;32m--> <a href='vscode-notebook-cell:/d%3A/Documents/Fran/MAIE/14_Tutoria_de_investigacion/A_Proyects/Italy_Greifeneder_Model_Validation/01_Codes/B_S1_Multitemporal_Despeckle.ipynb#W5sZmlsZQ%3D%3D?line=101'>102</a>\u001b[0m S1_temporal_multilooked \u001b[39m=\u001b[39m multitemporalDespeckle(S1, radius, units,\n\u001b[0;32m    <a href='vscode-notebook-cell:/d%3A/Documents/Fran/MAIE/14_Tutoria_de_investigacion/A_Proyects/Italy_Greifeneder_Model_Validation/01_Codes/B_S1_Multitemporal_Despeckle.ipynb#W5sZmlsZQ%3D%3D?line=102'>103</a>\u001b[0m                                                        {\u001b[39m'\u001b[39;49m\u001b[39mbefore\u001b[39;49m\u001b[39m'\u001b[39;49m: \u001b[39m-\u001b[39;49m\u001b[39m6\u001b[39;49m, \u001b[39m'\u001b[39;49m\u001b[39mafter\u001b[39;49m\u001b[39m'\u001b[39;49m: \u001b[39m6\u001b[39;49m, \u001b[39m'\u001b[39;49m\u001b[39munits\u001b[39;49m\u001b[39m'\u001b[39;49m: \u001b[39m'\u001b[39;49m\u001b[39mmonth\u001b[39;49m\u001b[39m'\u001b[39;49m})\n\u001b[0;32m    <a href='vscode-notebook-cell:/d%3A/Documents/Fran/MAIE/14_Tutoria_de_investigacion/A_Proyects/Italy_Greifeneder_Model_Validation/01_Codes/B_S1_Multitemporal_Despeckle.ipynb#W5sZmlsZQ%3D%3D?line=104'>105</a>\u001b[0m S1_temporal_multilooked\u001b[39m.\u001b[39mfirst()\n",
            "\u001b[1;32md:\\Documents\\Fran\\MAIE\\14_Tutoria_de_investigacion\\A_Proyects\\Italy_Greifeneder_Model_Validation\\01_Codes\\B_S1_Multitemporal_Despeckle.ipynb Cell 6\u001b[0m in \u001b[0;36mmultitemporalDespeckle\u001b[1;34m(images, radius, units, opt_timeWindow)\u001b[0m\n\u001b[0;32m     <a href='vscode-notebook-cell:/d%3A/Documents/Fran/MAIE/14_Tutoria_de_investigacion/A_Proyects/Italy_Greifeneder_Model_Validation/01_Codes/B_S1_Multitemporal_Despeckle.ipynb#W5sZmlsZQ%3D%3D?line=80'>81</a>\u001b[0m     \u001b[39mreturn\u001b[39;00m image\u001b[39m.\u001b[39maddBands(Img_temporal_filtered_VV)\u001b[39m.\u001b[39maddBands(Img_temporal_filtered_VH)\\\n\u001b[0;32m     <a href='vscode-notebook-cell:/d%3A/Documents/Fran/MAIE/14_Tutoria_de_investigacion/A_Proyects/Italy_Greifeneder_Model_Validation/01_Codes/B_S1_Multitemporal_Despeckle.ipynb#W5sZmlsZQ%3D%3D?line=81'>82</a>\u001b[0m         \u001b[39m.\u001b[39mset(\u001b[39m'\u001b[39m\u001b[39msystem:time_start\u001b[39m\u001b[39m'\u001b[39m,image\u001b[39m.\u001b[39mget(\u001b[39m'\u001b[39m\u001b[39msystem:time_start\u001b[39m\u001b[39m'\u001b[39m))\n\u001b[0;32m     <a href='vscode-notebook-cell:/d%3A/Documents/Fran/MAIE/14_Tutoria_de_investigacion/A_Proyects/Italy_Greifeneder_Model_Validation/01_Codes/B_S1_Multitemporal_Despeckle.ipynb#W5sZmlsZQ%3D%3D?line=82'>83</a>\u001b[0m     \u001b[39m#return (Ik)\u001b[39;00m\n\u001b[0;32m     <a href='vscode-notebook-cell:/d%3A/Documents/Fran/MAIE/14_Tutoria_de_investigacion/A_Proyects/Italy_Greifeneder_Model_Validation/01_Codes/B_S1_Multitemporal_Despeckle.ipynb#W5sZmlsZQ%3D%3D?line=83'>84</a>\u001b[0m \u001b[39m# .select(\"VV.*\") # Select the VV polarization bands\u001b[39;00m\n\u001b[1;32m---> <a href='vscode-notebook-cell:/d%3A/Documents/Fran/MAIE/14_Tutoria_de_investigacion/A_Proyects/Italy_Greifeneder_Model_Validation/01_Codes/B_S1_Multitemporal_Despeckle.ipynb#W5sZmlsZQ%3D%3D?line=85'>86</a>\u001b[0m Temp_filter_VV \u001b[39m=\u001b[39m meanSpace\u001b[39m.\u001b[39;49mselect(\u001b[39m\"\u001b[39;49m\u001b[39mVV.*\u001b[39;49m\u001b[39m\"\u001b[39;49m)\u001b[39m.\u001b[39;49mmap(multitemporalDespeckleSingle) \u001b[39m# Temporal filter in VV\u001b[39;00m\n\u001b[0;32m     <a href='vscode-notebook-cell:/d%3A/Documents/Fran/MAIE/14_Tutoria_de_investigacion/A_Proyects/Italy_Greifeneder_Model_Validation/01_Codes/B_S1_Multitemporal_Despeckle.ipynb#W5sZmlsZQ%3D%3D?line=86'>87</a>\u001b[0m Temp_filter_VH\u001b[39m=\u001b[39m meanSpace\u001b[39m.\u001b[39mselect(\u001b[39m\"\u001b[39m\u001b[39mVH.*\u001b[39m\u001b[39m\"\u001b[39m)\u001b[39m.\u001b[39mmap(multitemporalDespeckleSingle) \u001b[39m# Temporal filter in VH\u001b[39;00m\n\u001b[0;32m     <a href='vscode-notebook-cell:/d%3A/Documents/Fran/MAIE/14_Tutoria_de_investigacion/A_Proyects/Italy_Greifeneder_Model_Validation/01_Codes/B_S1_Multitemporal_Despeckle.ipynb#W5sZmlsZQ%3D%3D?line=87'>88</a>\u001b[0m meanSpace2 \u001b[39m=\u001b[39m Temp_filter_VV\u001b[39m.\u001b[39mcombine(Temp_filter_VH)\n",
            "File \u001b[1;32mc:\\Users\\franc\\anaconda3\\envs\\Curso_PDIS_Windows\\lib\\site-packages\\ee\\collection.py:204\u001b[0m, in \u001b[0;36mCollection.map\u001b[1;34m(self, algorithm, opt_dropNulls)\u001b[0m\n\u001b[0;32m    202\u001b[0m element_type \u001b[39m=\u001b[39m \u001b[39mself\u001b[39m\u001b[39m.\u001b[39melementType()\n\u001b[0;32m    203\u001b[0m with_cast \u001b[39m=\u001b[39m \u001b[39mlambda\u001b[39;00m e: algorithm(element_type(e))\n\u001b[1;32m--> 204\u001b[0m \u001b[39mreturn\u001b[39;00m \u001b[39mself\u001b[39m\u001b[39m.\u001b[39m_cast(apifunction\u001b[39m.\u001b[39;49mApiFunction\u001b[39m.\u001b[39;49mcall_(\n\u001b[0;32m    205\u001b[0m     \u001b[39m'\u001b[39;49m\u001b[39mCollection.map\u001b[39;49m\u001b[39m'\u001b[39;49m, \u001b[39mself\u001b[39;49m, with_cast, opt_dropNulls))\n",
            "File \u001b[1;32mc:\\Users\\franc\\anaconda3\\envs\\Curso_PDIS_Windows\\lib\\site-packages\\ee\\apifunction.py:81\u001b[0m, in \u001b[0;36mApiFunction.call_\u001b[1;34m(cls, name, *args, **kwargs)\u001b[0m\n\u001b[0;32m     68\u001b[0m \u001b[39m@classmethod\u001b[39m\n\u001b[0;32m     69\u001b[0m \u001b[39mdef\u001b[39;00m \u001b[39mcall_\u001b[39m(\u001b[39mcls\u001b[39m, name, \u001b[39m*\u001b[39margs, \u001b[39m*\u001b[39m\u001b[39m*\u001b[39mkwargs):\n\u001b[0;32m     70\u001b[0m \u001b[39m  \u001b[39m\u001b[39m\"\"\"Call a named API function with positional and keyword arguments.\u001b[39;00m\n\u001b[0;32m     71\u001b[0m \n\u001b[0;32m     72\u001b[0m \u001b[39m  Args:\u001b[39;00m\n\u001b[1;32m   (...)\u001b[0m\n\u001b[0;32m     79\u001b[0m \u001b[39m    a recognized return type, the returned value will be cast to that type.\u001b[39;00m\n\u001b[0;32m     80\u001b[0m \u001b[39m  \"\"\"\u001b[39;00m\n\u001b[1;32m---> 81\u001b[0m   \u001b[39mreturn\u001b[39;00m \u001b[39mcls\u001b[39m\u001b[39m.\u001b[39mlookup(name)\u001b[39m.\u001b[39mcall(\u001b[39m*\u001b[39margs, \u001b[39m*\u001b[39m\u001b[39m*\u001b[39mkwargs)\n",
            "File \u001b[1;32mc:\\Users\\franc\\anaconda3\\envs\\Curso_PDIS_Windows\\lib\\site-packages\\ee\\function.py:67\u001b[0m, in \u001b[0;36mFunction.call\u001b[1;34m(self, *args, **kwargs)\u001b[0m\n\u001b[0;32m     55\u001b[0m \u001b[39mdef\u001b[39;00m \u001b[39mcall\u001b[39m(\u001b[39mself\u001b[39m, \u001b[39m*\u001b[39margs, \u001b[39m*\u001b[39m\u001b[39m*\u001b[39mkwargs):\n\u001b[0;32m     56\u001b[0m \u001b[39m  \u001b[39m\u001b[39m\"\"\"Calls the function with the given positional and keyword arguments.\u001b[39;00m\n\u001b[0;32m     57\u001b[0m \n\u001b[0;32m     58\u001b[0m \u001b[39m  Args:\u001b[39;00m\n\u001b[1;32m   (...)\u001b[0m\n\u001b[0;32m     65\u001b[0m \u001b[39m    to that type.\u001b[39;00m\n\u001b[0;32m     66\u001b[0m \u001b[39m  \"\"\"\u001b[39;00m\n\u001b[1;32m---> 67\u001b[0m   \u001b[39mreturn\u001b[39;00m \u001b[39mself\u001b[39;49m\u001b[39m.\u001b[39;49mapply(\u001b[39mself\u001b[39;49m\u001b[39m.\u001b[39;49mnameArgs(args, kwargs))\n",
            "File \u001b[1;32mc:\\Users\\franc\\anaconda3\\envs\\Curso_PDIS_Windows\\lib\\site-packages\\ee\\function.py:80\u001b[0m, in \u001b[0;36mFunction.apply\u001b[1;34m(self, named_args)\u001b[0m\n\u001b[0;32m     69\u001b[0m \u001b[39mdef\u001b[39;00m \u001b[39mapply\u001b[39m(\u001b[39mself\u001b[39m, named_args):\n\u001b[0;32m     70\u001b[0m \u001b[39m  \u001b[39m\u001b[39m\"\"\"Calls the function with a dictionary of named arguments.\u001b[39;00m\n\u001b[0;32m     71\u001b[0m \n\u001b[0;32m     72\u001b[0m \u001b[39m  Args:\u001b[39;00m\n\u001b[1;32m   (...)\u001b[0m\n\u001b[0;32m     78\u001b[0m \u001b[39m    to that type.\u001b[39;00m\n\u001b[0;32m     79\u001b[0m \u001b[39m  \"\"\"\u001b[39;00m\n\u001b[1;32m---> 80\u001b[0m   result \u001b[39m=\u001b[39m computedobject\u001b[39m.\u001b[39mComputedObject(\u001b[39mself\u001b[39m, \u001b[39mself\u001b[39;49m\u001b[39m.\u001b[39;49mpromoteArgs(named_args))\n\u001b[0;32m     81\u001b[0m   \u001b[39mreturn\u001b[39;00m Function\u001b[39m.\u001b[39m_promoter(result, \u001b[39mself\u001b[39m\u001b[39m.\u001b[39mgetReturnType())\n",
            "File \u001b[1;32mc:\\Users\\franc\\anaconda3\\envs\\Curso_PDIS_Windows\\lib\\site-packages\\ee\\function.py:107\u001b[0m, in \u001b[0;36mFunction.promoteArgs\u001b[1;34m(self, args)\u001b[0m\n\u001b[0;32m    105\u001b[0m name \u001b[39m=\u001b[39m spec[\u001b[39m'\u001b[39m\u001b[39mname\u001b[39m\u001b[39m'\u001b[39m]\n\u001b[0;32m    106\u001b[0m \u001b[39mif\u001b[39;00m name \u001b[39min\u001b[39;00m args:\n\u001b[1;32m--> 107\u001b[0m   promoted_args[name] \u001b[39m=\u001b[39m Function\u001b[39m.\u001b[39;49m_promoter(args[name], spec[\u001b[39m'\u001b[39;49m\u001b[39mtype\u001b[39;49m\u001b[39m'\u001b[39;49m])\n\u001b[0;32m    108\u001b[0m \u001b[39melif\u001b[39;00m \u001b[39mnot\u001b[39;00m spec\u001b[39m.\u001b[39mget(\u001b[39m'\u001b[39m\u001b[39moptional\u001b[39m\u001b[39m'\u001b[39m):\n\u001b[0;32m    109\u001b[0m   \u001b[39mraise\u001b[39;00m ee_exception\u001b[39m.\u001b[39mEEException(\n\u001b[0;32m    110\u001b[0m       \u001b[39m'\u001b[39m\u001b[39mRequired argument (\u001b[39m\u001b[39m%s\u001b[39;00m\u001b[39m) missing to function: \u001b[39m\u001b[39m%s\u001b[39;00m\u001b[39m'\u001b[39m\n\u001b[0;32m    111\u001b[0m       \u001b[39m%\u001b[39m (name, \u001b[39mself\u001b[39m\u001b[39m.\u001b[39mname))\n",
            "File \u001b[1;32mc:\\Users\\franc\\anaconda3\\envs\\Curso_PDIS_Windows\\lib\\site-packages\\ee\\__init__.py:257\u001b[0m, in \u001b[0;36m_Promote\u001b[1;34m(arg, klass)\u001b[0m\n\u001b[0;32m    254\u001b[0m \u001b[39melif\u001b[39;00m \u001b[39mcallable\u001b[39m(arg):\n\u001b[0;32m    255\u001b[0m   \u001b[39m# A native function that needs to be wrapped.\u001b[39;00m\n\u001b[0;32m    256\u001b[0m   args_count \u001b[39m=\u001b[39m \u001b[39mlen\u001b[39m(inspect\u001b[39m.\u001b[39mgetfullargspec(arg)\u001b[39m.\u001b[39margs)\n\u001b[1;32m--> 257\u001b[0m   \u001b[39mreturn\u001b[39;00m CustomFunction\u001b[39m.\u001b[39;49mcreate(arg, \u001b[39m'\u001b[39;49m\u001b[39mObject\u001b[39;49m\u001b[39m'\u001b[39;49m, [\u001b[39m'\u001b[39;49m\u001b[39mObject\u001b[39;49m\u001b[39m'\u001b[39;49m] \u001b[39m*\u001b[39;49m args_count)\n\u001b[0;32m    258\u001b[0m \u001b[39melif\u001b[39;00m \u001b[39misinstance\u001b[39m(arg, Encodable):\n\u001b[0;32m    259\u001b[0m   \u001b[39m# An ee.Function or a computed function like the return value of\u001b[39;00m\n\u001b[0;32m    260\u001b[0m   \u001b[39m# Image.parseExpression().\u001b[39;00m\n\u001b[0;32m    261\u001b[0m   \u001b[39mreturn\u001b[39;00m arg\n",
            "File \u001b[1;32mc:\\Users\\franc\\anaconda3\\envs\\Curso_PDIS_Windows\\lib\\site-packages\\ee\\customfunction.py:124\u001b[0m, in \u001b[0;36mCustomFunction.create\u001b[1;34m(func, return_type, arg_types)\u001b[0m\n\u001b[0;32m    118\u001b[0m args \u001b[39m=\u001b[39m [{\u001b[39m'\u001b[39m\u001b[39mname\u001b[39m\u001b[39m'\u001b[39m: \u001b[39mNone\u001b[39;00m, \u001b[39m'\u001b[39m\u001b[39mtype\u001b[39m\u001b[39m'\u001b[39m: StringifyType(i)} \u001b[39mfor\u001b[39;00m i \u001b[39min\u001b[39;00m arg_types]\n\u001b[0;32m    119\u001b[0m signature \u001b[39m=\u001b[39m {\n\u001b[0;32m    120\u001b[0m     \u001b[39m'\u001b[39m\u001b[39mname\u001b[39m\u001b[39m'\u001b[39m: \u001b[39m'\u001b[39m\u001b[39m'\u001b[39m,\n\u001b[0;32m    121\u001b[0m     \u001b[39m'\u001b[39m\u001b[39mreturns\u001b[39m\u001b[39m'\u001b[39m: StringifyType(return_type),\n\u001b[0;32m    122\u001b[0m     \u001b[39m'\u001b[39m\u001b[39margs\u001b[39m\u001b[39m'\u001b[39m: args\n\u001b[0;32m    123\u001b[0m }\n\u001b[1;32m--> 124\u001b[0m \u001b[39mreturn\u001b[39;00m CustomFunction(signature, func)\n",
            "File \u001b[1;32mc:\\Users\\franc\\anaconda3\\envs\\Curso_PDIS_Windows\\lib\\site-packages\\ee\\customfunction.py:42\u001b[0m, in \u001b[0;36mCustomFunction.__init__\u001b[1;34m(self, signature, body)\u001b[0m\n\u001b[0;32m     28\u001b[0m \u001b[39m\u001b[39m\u001b[39m\"\"\"Creates a function defined by a given expression with unbound variables.\u001b[39;00m\n\u001b[0;32m     29\u001b[0m \n\u001b[0;32m     30\u001b[0m \u001b[39mThe expression is created by evaluating the given function\u001b[39;00m\n\u001b[1;32m   (...)\u001b[0m\n\u001b[0;32m     37\u001b[0m \u001b[39m  body: The Python function to evaluate.\u001b[39;00m\n\u001b[0;32m     38\u001b[0m \u001b[39m\"\"\"\u001b[39;00m\n\u001b[0;32m     39\u001b[0m variables \u001b[39m=\u001b[39m [CustomFunction\u001b[39m.\u001b[39mvariable(arg[\u001b[39m'\u001b[39m\u001b[39mtype\u001b[39m\u001b[39m'\u001b[39m], arg[\u001b[39m'\u001b[39m\u001b[39mname\u001b[39m\u001b[39m'\u001b[39m])\n\u001b[0;32m     40\u001b[0m              \u001b[39mfor\u001b[39;00m arg \u001b[39min\u001b[39;00m signature[\u001b[39m'\u001b[39m\u001b[39margs\u001b[39m\u001b[39m'\u001b[39m]]\n\u001b[1;32m---> 42\u001b[0m \u001b[39mif\u001b[39;00m body(\u001b[39m*\u001b[39;49mvariables) \u001b[39mis\u001b[39;00m \u001b[39mNone\u001b[39;00m:\n\u001b[0;32m     43\u001b[0m   \u001b[39mraise\u001b[39;00m ee_exception\u001b[39m.\u001b[39mEEException(\u001b[39m'\u001b[39m\u001b[39mUser-defined methods must return a value\u001b[39m\u001b[39m'\u001b[39m)\n\u001b[0;32m     45\u001b[0m \u001b[39m# The signature of the function.\u001b[39;00m\n",
            "File \u001b[1;32mc:\\Users\\franc\\anaconda3\\envs\\Curso_PDIS_Windows\\lib\\site-packages\\ee\\collection.py:203\u001b[0m, in \u001b[0;36mCollection.map.<locals>.<lambda>\u001b[1;34m(e)\u001b[0m\n\u001b[0;32m    185\u001b[0m \u001b[39m\u001b[39m\u001b[39m\"\"\"Maps an algorithm over a collection.\u001b[39;00m\n\u001b[0;32m    186\u001b[0m \n\u001b[0;32m    187\u001b[0m \u001b[39mArgs:\u001b[39;00m\n\u001b[1;32m   (...)\u001b[0m\n\u001b[0;32m    200\u001b[0m \u001b[39m  ee_exception.EEException: if algorithm is not a function.\u001b[39;00m\n\u001b[0;32m    201\u001b[0m \u001b[39m\"\"\"\u001b[39;00m\n\u001b[0;32m    202\u001b[0m element_type \u001b[39m=\u001b[39m \u001b[39mself\u001b[39m\u001b[39m.\u001b[39melementType()\n\u001b[1;32m--> 203\u001b[0m with_cast \u001b[39m=\u001b[39m \u001b[39mlambda\u001b[39;00m e: algorithm(element_type(e))\n\u001b[0;32m    204\u001b[0m \u001b[39mreturn\u001b[39;00m \u001b[39mself\u001b[39m\u001b[39m.\u001b[39m_cast(apifunction\u001b[39m.\u001b[39mApiFunction\u001b[39m.\u001b[39mcall_(\n\u001b[0;32m    205\u001b[0m     \u001b[39m'\u001b[39m\u001b[39mCollection.map\u001b[39m\u001b[39m'\u001b[39m, \u001b[39mself\u001b[39m, with_cast, opt_dropNulls))\n",
            "\u001b[1;32md:\\Documents\\Fran\\MAIE\\14_Tutoria_de_investigacion\\A_Proyects\\Italy_Greifeneder_Model_Validation\\01_Codes\\B_S1_Multitemporal_Despeckle.ipynb Cell 6\u001b[0m in \u001b[0;36mmultitemporalDespeckle.<locals>.multitemporalDespeckleSingle\u001b[1;34m(image)\u001b[0m\n\u001b[0;32m     <a href='vscode-notebook-cell:/d%3A/Documents/Fran/MAIE/14_Tutoria_de_investigacion/A_Proyects/Italy_Greifeneder_Model_Validation/01_Codes/B_S1_Multitemporal_Despeckle.ipynb#W5sZmlsZQ%3D%3D?line=51'>52</a>\u001b[0m pol_band_name \u001b[39m=\u001b[39m ee\u001b[39m.\u001b[39mString(image\u001b[39m.\u001b[39mbandNames()\u001b[39m.\u001b[39mget(\u001b[39m0\u001b[39m))\n\u001b[0;32m     <a href='vscode-notebook-cell:/d%3A/Documents/Fran/MAIE/14_Tutoria_de_investigacion/A_Proyects/Italy_Greifeneder_Model_Validation/01_Codes/B_S1_Multitemporal_Despeckle.ipynb#W5sZmlsZQ%3D%3D?line=52'>53</a>\u001b[0m \u001b[39m#print(pol_band_name.getInfo()==\"VV\")\u001b[39;00m\n\u001b[0;32m     <a href='vscode-notebook-cell:/d%3A/Documents/Fran/MAIE/14_Tutoria_de_investigacion/A_Proyects/Italy_Greifeneder_Model_Validation/01_Codes/B_S1_Multitemporal_Despeckle.ipynb#W5sZmlsZQ%3D%3D?line=53'>54</a>\u001b[0m \u001b[39m#print((ee.String(image.bandNames().get(0)).getInfo())=='VV')\u001b[39;00m\n\u001b[0;32m     <a href='vscode-notebook-cell:/d%3A/Documents/Fran/MAIE/14_Tutoria_de_investigacion/A_Proyects/Italy_Greifeneder_Model_Validation/01_Codes/B_S1_Multitemporal_Despeckle.ipynb#W5sZmlsZQ%3D%3D?line=54'>55</a>\u001b[0m \u001b[39m#print((ee.String(image.bandNames().get(0)).getInfo())==ee.String('VV'))\u001b[39;00m\n\u001b[0;32m     <a href='vscode-notebook-cell:/d%3A/Documents/Fran/MAIE/14_Tutoria_de_investigacion/A_Proyects/Italy_Greifeneder_Model_Validation/01_Codes/B_S1_Multitemporal_Despeckle.ipynb#W5sZmlsZQ%3D%3D?line=55'>56</a>\u001b[0m \u001b[39m#print(ee.String(image.bandNames().get(0)))\u001b[39;00m\n\u001b[1;32m---> <a href='vscode-notebook-cell:/d%3A/Documents/Fran/MAIE/14_Tutoria_de_investigacion/A_Proyects/Italy_Greifeneder_Model_Validation/01_Codes/B_S1_Multitemporal_Despeckle.ipynb#W5sZmlsZQ%3D%3D?line=56'>57</a>\u001b[0m \u001b[39mprint\u001b[39m(image\u001b[39m.\u001b[39;49mselect(\u001b[39m\"\u001b[39;49m\u001b[39mVV.*\u001b[39;49m\u001b[39m\"\u001b[39;49m)\u001b[39m.\u001b[39;49mbandNames()\u001b[39m.\u001b[39;49msize()\u001b[39m.\u001b[39;49mgetInfo()) \n\u001b[0;32m     <a href='vscode-notebook-cell:/d%3A/Documents/Fran/MAIE/14_Tutoria_de_investigacion/A_Proyects/Italy_Greifeneder_Model_Validation/01_Codes/B_S1_Multitemporal_Despeckle.ipynb#W5sZmlsZQ%3D%3D?line=57'>58</a>\u001b[0m threshold \u001b[39m=\u001b[39m ee\u001b[39m.\u001b[39mString(ee\u001b[39m.\u001b[39mNumber(timeWindow[\u001b[39m'\u001b[39m\u001b[39mafter\u001b[39m\u001b[39m'\u001b[39m]))\n\u001b[0;32m     <a href='vscode-notebook-cell:/d%3A/Documents/Fran/MAIE/14_Tutoria_de_investigacion/A_Proyects/Italy_Greifeneder_Model_Validation/01_Codes/B_S1_Multitemporal_Despeckle.ipynb#W5sZmlsZQ%3D%3D?line=58'>59</a>\u001b[0m \u001b[39m#print(ee.String(image.bandNames().get(0)).getInfo())\u001b[39;00m\n\u001b[0;32m     <a href='vscode-notebook-cell:/d%3A/Documents/Fran/MAIE/14_Tutoria_de_investigacion/A_Proyects/Italy_Greifeneder_Model_Validation/01_Codes/B_S1_Multitemporal_Despeckle.ipynb#W5sZmlsZQ%3D%3D?line=59'>60</a>\u001b[0m \n\u001b[0;32m     <a href='vscode-notebook-cell:/d%3A/Documents/Fran/MAIE/14_Tutoria_de_investigacion/A_Proyects/Italy_Greifeneder_Model_Validation/01_Codes/B_S1_Multitemporal_Despeckle.ipynb#W5sZmlsZQ%3D%3D?line=60'>61</a>\u001b[0m \u001b[39m# .cat(ee.String(ee.Number(threshold)))\u001b[39;00m\n",
            "File \u001b[1;32mc:\\Users\\franc\\anaconda3\\envs\\Curso_PDIS_Windows\\lib\\site-packages\\ee\\computedobject.py:96\u001b[0m, in \u001b[0;36mComputedObject.getInfo\u001b[1;34m(self)\u001b[0m\n\u001b[0;32m     90\u001b[0m \u001b[39mdef\u001b[39;00m \u001b[39mgetInfo\u001b[39m(\u001b[39mself\u001b[39m):\n\u001b[0;32m     91\u001b[0m \u001b[39m  \u001b[39m\u001b[39m\"\"\"Fetch and return information about this object.\u001b[39;00m\n\u001b[0;32m     92\u001b[0m \n\u001b[0;32m     93\u001b[0m \u001b[39m  Returns:\u001b[39;00m\n\u001b[0;32m     94\u001b[0m \u001b[39m    The object can evaluate to anything.\u001b[39;00m\n\u001b[0;32m     95\u001b[0m \u001b[39m  \"\"\"\u001b[39;00m\n\u001b[1;32m---> 96\u001b[0m   \u001b[39mreturn\u001b[39;00m data\u001b[39m.\u001b[39;49mcomputeValue(\u001b[39mself\u001b[39;49m)\n",
            "File \u001b[1;32mc:\\Users\\franc\\anaconda3\\envs\\Curso_PDIS_Windows\\lib\\site-packages\\ee\\data.py:950\u001b[0m, in \u001b[0;36mcomputeValue\u001b[1;34m(obj)\u001b[0m\n\u001b[0;32m    941\u001b[0m \u001b[39mdef\u001b[39;00m \u001b[39mcomputeValue\u001b[39m(obj):\n\u001b[0;32m    942\u001b[0m \u001b[39m  \u001b[39m\u001b[39m\"\"\"Sends a request to compute a value.\u001b[39;00m\n\u001b[0;32m    943\u001b[0m \n\u001b[0;32m    944\u001b[0m \u001b[39m  Args:\u001b[39;00m\n\u001b[1;32m   (...)\u001b[0m\n\u001b[0;32m    948\u001b[0m \u001b[39m    The result of evaluating that object on the server.\u001b[39;00m\n\u001b[0;32m    949\u001b[0m \u001b[39m  \"\"\"\u001b[39;00m\n\u001b[1;32m--> 950\u001b[0m   body \u001b[39m=\u001b[39m {\u001b[39m'\u001b[39m\u001b[39mexpression\u001b[39m\u001b[39m'\u001b[39m: serializer\u001b[39m.\u001b[39;49mencode(obj, for_cloud_api\u001b[39m=\u001b[39;49m\u001b[39mTrue\u001b[39;49;00m)}\n\u001b[0;32m    951\u001b[0m   _maybe_populate_workload_tag(body)\n\u001b[0;32m    953\u001b[0m   \u001b[39mreturn\u001b[39;00m _execute_cloud_call(\n\u001b[0;32m    954\u001b[0m       _get_cloud_projects()\n\u001b[0;32m    955\u001b[0m       \u001b[39m.\u001b[39mvalue()\n\u001b[0;32m    956\u001b[0m       \u001b[39m.\u001b[39mcompute(body\u001b[39m=\u001b[39mbody, project\u001b[39m=\u001b[39m_get_projects_path(), prettyPrint\u001b[39m=\u001b[39m\u001b[39mFalse\u001b[39;00m)\n\u001b[0;32m    957\u001b[0m   )[\u001b[39m'\u001b[39m\u001b[39mresult\u001b[39m\u001b[39m'\u001b[39m]\n",
            "File \u001b[1;32mc:\\Users\\franc\\anaconda3\\envs\\Curso_PDIS_Windows\\lib\\site-packages\\ee\\serializer.py:296\u001b[0m, in \u001b[0;36mencode\u001b[1;34m(obj, is_compound, for_cloud_api, unbound_name)\u001b[0m\n\u001b[0;32m    280\u001b[0m \u001b[39m\u001b[39m\u001b[39m\"\"\"Serialize an object to a JSON-compatible structure for API calls.\u001b[39;00m\n\u001b[0;32m    281\u001b[0m \n\u001b[0;32m    282\u001b[0m \u001b[39mArgs:\u001b[39;00m\n\u001b[1;32m   (...)\u001b[0m\n\u001b[0;32m    292\u001b[0m \u001b[39m  A JSON-compatible structure representing the input.\u001b[39;00m\n\u001b[0;32m    293\u001b[0m \u001b[39m\"\"\"\u001b[39;00m\n\u001b[0;32m    294\u001b[0m serializer \u001b[39m=\u001b[39m Serializer(\n\u001b[0;32m    295\u001b[0m     is_compound, for_cloud_api\u001b[39m=\u001b[39mfor_cloud_api, unbound_name\u001b[39m=\u001b[39munbound_name)\n\u001b[1;32m--> 296\u001b[0m \u001b[39mreturn\u001b[39;00m serializer\u001b[39m.\u001b[39;49m_encode(obj)\n",
            "File \u001b[1;32mc:\\Users\\franc\\anaconda3\\envs\\Curso_PDIS_Windows\\lib\\site-packages\\ee\\serializer.py:79\u001b[0m, in \u001b[0;36mSerializer._encode\u001b[1;34m(self, obj)\u001b[0m\n\u001b[0;32m     70\u001b[0m \u001b[39m\u001b[39m\u001b[39m\"\"\"Encodes a top level object to be executed server-side.\u001b[39;00m\n\u001b[0;32m     71\u001b[0m \n\u001b[0;32m     72\u001b[0m \u001b[39mArgs:\u001b[39;00m\n\u001b[1;32m   (...)\u001b[0m\n\u001b[0;32m     76\u001b[0m \u001b[39m  An encoded object ready for JSON serialization.\u001b[39;00m\n\u001b[0;32m     77\u001b[0m \u001b[39m\"\"\"\u001b[39;00m\n\u001b[0;32m     78\u001b[0m \u001b[39mif\u001b[39;00m \u001b[39mself\u001b[39m\u001b[39m.\u001b[39m_for_cloud_api:\n\u001b[1;32m---> 79\u001b[0m   \u001b[39mreturn\u001b[39;00m \u001b[39mself\u001b[39;49m\u001b[39m.\u001b[39;49m_encode_for_cloud_api(obj)\n\u001b[0;32m     80\u001b[0m value \u001b[39m=\u001b[39m \u001b[39mself\u001b[39m\u001b[39m.\u001b[39m_encode_value(obj)\n\u001b[0;32m     81\u001b[0m \u001b[39mif\u001b[39;00m \u001b[39mself\u001b[39m\u001b[39m.\u001b[39m_is_compound:\n",
            "File \u001b[1;32mc:\\Users\\franc\\anaconda3\\envs\\Curso_PDIS_Windows\\lib\\site-packages\\ee\\serializer.py:97\u001b[0m, in \u001b[0;36mSerializer._encode_for_cloud_api\u001b[1;34m(self, obj)\u001b[0m\n\u001b[0;32m     95\u001b[0m \u001b[39mdef\u001b[39;00m \u001b[39m_encode_for_cloud_api\u001b[39m(\u001b[39mself\u001b[39m, obj):\n\u001b[0;32m     96\u001b[0m \u001b[39m  \u001b[39m\u001b[39m\"\"\"Encodes an object as an Expression or quasi-Expression.\"\"\"\u001b[39;00m\n\u001b[1;32m---> 97\u001b[0m   value \u001b[39m=\u001b[39m \u001b[39mself\u001b[39;49m\u001b[39m.\u001b[39;49m_encode_cloud_object(obj)\n\u001b[0;32m     98\u001b[0m   \u001b[39mif\u001b[39;00m \u001b[39mself\u001b[39m\u001b[39m.\u001b[39m_is_compound:\n\u001b[0;32m     99\u001b[0m     \u001b[39m# Wrap the scopes and final value into an Expression.\u001b[39;00m\n\u001b[0;32m    100\u001b[0m     value \u001b[39m=\u001b[39m _ExpressionOptimizer(value, \u001b[39mself\u001b[39m\u001b[39m.\u001b[39m_scope)\u001b[39m.\u001b[39moptimize()\n",
            "File \u001b[1;32mc:\\Users\\franc\\anaconda3\\envs\\Curso_PDIS_Windows\\lib\\site-packages\\ee\\serializer.py:219\u001b[0m, in \u001b[0;36mSerializer._encode_cloud_object\u001b[1;34m(self, obj)\u001b[0m\n\u001b[0;32m    207\u001b[0m   result \u001b[39m=\u001b[39m {\n\u001b[0;32m    208\u001b[0m       \u001b[39m'\u001b[39m\u001b[39mfunctionInvocationValue\u001b[39m\u001b[39m'\u001b[39m: {\n\u001b[0;32m    209\u001b[0m           \u001b[39m'\u001b[39m\u001b[39mfunctionName\u001b[39m\u001b[39m'\u001b[39m: \u001b[39m'\u001b[39m\u001b[39mDate\u001b[39m\u001b[39m'\u001b[39m,\n\u001b[1;32m   (...)\u001b[0m\n\u001b[0;32m    215\u001b[0m       }\n\u001b[0;32m    216\u001b[0m   }\n\u001b[0;32m    217\u001b[0m \u001b[39melif\u001b[39;00m \u001b[39misinstance\u001b[39m(obj, encodable\u001b[39m.\u001b[39mEncodable):\n\u001b[0;32m    218\u001b[0m   \u001b[39m# Some objects know how to encode themselves.\u001b[39;00m\n\u001b[1;32m--> 219\u001b[0m   result \u001b[39m=\u001b[39m obj\u001b[39m.\u001b[39;49mencode_cloud_value(\u001b[39mself\u001b[39;49m\u001b[39m.\u001b[39;49m_encode_cloud_object)\n\u001b[0;32m    220\u001b[0m \u001b[39melif\u001b[39;00m \u001b[39misinstance\u001b[39m(obj, (\u001b[39mlist\u001b[39m, \u001b[39mtuple\u001b[39m)):\n\u001b[0;32m    221\u001b[0m   \u001b[39m# Lists are encoded recursively.\u001b[39;00m\n\u001b[0;32m    222\u001b[0m   \u001b[39mif\u001b[39;00m \u001b[39mself\u001b[39m\u001b[39m.\u001b[39m_is_compound:\n",
            "File \u001b[1;32mc:\\Users\\franc\\anaconda3\\envs\\Curso_PDIS_Windows\\lib\\site-packages\\ee\\ee_number.py:74\u001b[0m, in \u001b[0;36mNumber.encode_cloud_value\u001b[1;34m(self, opt_encoder)\u001b[0m\n\u001b[0;32m     72\u001b[0m   \u001b[39mreturn\u001b[39;00m _cloud_api_utils\u001b[39m.\u001b[39mencode_number_as_cloud_value(\u001b[39mself\u001b[39m\u001b[39m.\u001b[39m_number)\n\u001b[0;32m     73\u001b[0m \u001b[39melse\u001b[39;00m:\n\u001b[1;32m---> 74\u001b[0m   \u001b[39mreturn\u001b[39;00m \u001b[39msuper\u001b[39;49m(Number, \u001b[39mself\u001b[39;49m)\u001b[39m.\u001b[39;49mencode_cloud_value(opt_encoder)\n",
            "File \u001b[1;32mc:\\Users\\franc\\anaconda3\\envs\\Curso_PDIS_Windows\\lib\\site-packages\\ee\\computedobject.py:150\u001b[0m, in \u001b[0;36mComputedObject.encode_cloud_value\u001b[1;34m(self, encoder)\u001b[0m\n\u001b[0;32m    148\u001b[0m   value \u001b[39m=\u001b[39m \u001b[39mself\u001b[39m\u001b[39m.\u001b[39margs[name]\n\u001b[0;32m    149\u001b[0m   \u001b[39mif\u001b[39;00m value \u001b[39mis\u001b[39;00m \u001b[39mnot\u001b[39;00m \u001b[39mNone\u001b[39;00m:\n\u001b[1;32m--> 150\u001b[0m     encoded_args[name] \u001b[39m=\u001b[39m {\u001b[39m'\u001b[39m\u001b[39mvalueReference\u001b[39m\u001b[39m'\u001b[39m: encoder(value)}\n\u001b[0;32m    151\u001b[0m invocation[\u001b[39m'\u001b[39m\u001b[39marguments\u001b[39m\u001b[39m'\u001b[39m] \u001b[39m=\u001b[39m encoded_args\n\u001b[0;32m    152\u001b[0m \u001b[39mreturn\u001b[39;00m {\u001b[39m'\u001b[39m\u001b[39mfunctionInvocationValue\u001b[39m\u001b[39m'\u001b[39m: invocation}\n",
            "File \u001b[1;32mc:\\Users\\franc\\anaconda3\\envs\\Curso_PDIS_Windows\\lib\\site-packages\\ee\\serializer.py:219\u001b[0m, in \u001b[0;36mSerializer._encode_cloud_object\u001b[1;34m(self, obj)\u001b[0m\n\u001b[0;32m    207\u001b[0m   result \u001b[39m=\u001b[39m {\n\u001b[0;32m    208\u001b[0m       \u001b[39m'\u001b[39m\u001b[39mfunctionInvocationValue\u001b[39m\u001b[39m'\u001b[39m: {\n\u001b[0;32m    209\u001b[0m           \u001b[39m'\u001b[39m\u001b[39mfunctionName\u001b[39m\u001b[39m'\u001b[39m: \u001b[39m'\u001b[39m\u001b[39mDate\u001b[39m\u001b[39m'\u001b[39m,\n\u001b[1;32m   (...)\u001b[0m\n\u001b[0;32m    215\u001b[0m       }\n\u001b[0;32m    216\u001b[0m   }\n\u001b[0;32m    217\u001b[0m \u001b[39melif\u001b[39;00m \u001b[39misinstance\u001b[39m(obj, encodable\u001b[39m.\u001b[39mEncodable):\n\u001b[0;32m    218\u001b[0m   \u001b[39m# Some objects know how to encode themselves.\u001b[39;00m\n\u001b[1;32m--> 219\u001b[0m   result \u001b[39m=\u001b[39m obj\u001b[39m.\u001b[39;49mencode_cloud_value(\u001b[39mself\u001b[39;49m\u001b[39m.\u001b[39;49m_encode_cloud_object)\n\u001b[0;32m    220\u001b[0m \u001b[39melif\u001b[39;00m \u001b[39misinstance\u001b[39m(obj, (\u001b[39mlist\u001b[39m, \u001b[39mtuple\u001b[39m)):\n\u001b[0;32m    221\u001b[0m   \u001b[39m# Lists are encoded recursively.\u001b[39;00m\n\u001b[0;32m    222\u001b[0m   \u001b[39mif\u001b[39;00m \u001b[39mself\u001b[39m\u001b[39m.\u001b[39m_is_compound:\n",
            "File \u001b[1;32mc:\\Users\\franc\\anaconda3\\envs\\Curso_PDIS_Windows\\lib\\site-packages\\ee\\ee_list.py:74\u001b[0m, in \u001b[0;36mList.encode_cloud_value\u001b[1;34m(self, opt_encoder)\u001b[0m\n\u001b[0;32m     72\u001b[0m   \u001b[39mreturn\u001b[39;00m {\u001b[39m'\u001b[39m\u001b[39mvalueReference\u001b[39m\u001b[39m'\u001b[39m: opt_encoder(\u001b[39mself\u001b[39m\u001b[39m.\u001b[39m_list)}\n\u001b[0;32m     73\u001b[0m \u001b[39melse\u001b[39;00m:\n\u001b[1;32m---> 74\u001b[0m   \u001b[39mreturn\u001b[39;00m \u001b[39msuper\u001b[39;49m(List, \u001b[39mself\u001b[39;49m)\u001b[39m.\u001b[39;49mencode_cloud_value(opt_encoder)\n",
            "File \u001b[1;32mc:\\Users\\franc\\anaconda3\\envs\\Curso_PDIS_Windows\\lib\\site-packages\\ee\\computedobject.py:150\u001b[0m, in \u001b[0;36mComputedObject.encode_cloud_value\u001b[1;34m(self, encoder)\u001b[0m\n\u001b[0;32m    148\u001b[0m   value \u001b[39m=\u001b[39m \u001b[39mself\u001b[39m\u001b[39m.\u001b[39margs[name]\n\u001b[0;32m    149\u001b[0m   \u001b[39mif\u001b[39;00m value \u001b[39mis\u001b[39;00m \u001b[39mnot\u001b[39;00m \u001b[39mNone\u001b[39;00m:\n\u001b[1;32m--> 150\u001b[0m     encoded_args[name] \u001b[39m=\u001b[39m {\u001b[39m'\u001b[39m\u001b[39mvalueReference\u001b[39m\u001b[39m'\u001b[39m: encoder(value)}\n\u001b[0;32m    151\u001b[0m invocation[\u001b[39m'\u001b[39m\u001b[39marguments\u001b[39m\u001b[39m'\u001b[39m] \u001b[39m=\u001b[39m encoded_args\n\u001b[0;32m    152\u001b[0m \u001b[39mreturn\u001b[39;00m {\u001b[39m'\u001b[39m\u001b[39mfunctionInvocationValue\u001b[39m\u001b[39m'\u001b[39m: invocation}\n",
            "File \u001b[1;32mc:\\Users\\franc\\anaconda3\\envs\\Curso_PDIS_Windows\\lib\\site-packages\\ee\\serializer.py:219\u001b[0m, in \u001b[0;36mSerializer._encode_cloud_object\u001b[1;34m(self, obj)\u001b[0m\n\u001b[0;32m    207\u001b[0m   result \u001b[39m=\u001b[39m {\n\u001b[0;32m    208\u001b[0m       \u001b[39m'\u001b[39m\u001b[39mfunctionInvocationValue\u001b[39m\u001b[39m'\u001b[39m: {\n\u001b[0;32m    209\u001b[0m           \u001b[39m'\u001b[39m\u001b[39mfunctionName\u001b[39m\u001b[39m'\u001b[39m: \u001b[39m'\u001b[39m\u001b[39mDate\u001b[39m\u001b[39m'\u001b[39m,\n\u001b[1;32m   (...)\u001b[0m\n\u001b[0;32m    215\u001b[0m       }\n\u001b[0;32m    216\u001b[0m   }\n\u001b[0;32m    217\u001b[0m \u001b[39melif\u001b[39;00m \u001b[39misinstance\u001b[39m(obj, encodable\u001b[39m.\u001b[39mEncodable):\n\u001b[0;32m    218\u001b[0m   \u001b[39m# Some objects know how to encode themselves.\u001b[39;00m\n\u001b[1;32m--> 219\u001b[0m   result \u001b[39m=\u001b[39m obj\u001b[39m.\u001b[39;49mencode_cloud_value(\u001b[39mself\u001b[39;49m\u001b[39m.\u001b[39;49m_encode_cloud_object)\n\u001b[0;32m    220\u001b[0m \u001b[39melif\u001b[39;00m \u001b[39misinstance\u001b[39m(obj, (\u001b[39mlist\u001b[39m, \u001b[39mtuple\u001b[39m)):\n\u001b[0;32m    221\u001b[0m   \u001b[39m# Lists are encoded recursively.\u001b[39;00m\n\u001b[0;32m    222\u001b[0m   \u001b[39mif\u001b[39;00m \u001b[39mself\u001b[39m\u001b[39m.\u001b[39m_is_compound:\n",
            "File \u001b[1;32mc:\\Users\\franc\\anaconda3\\envs\\Curso_PDIS_Windows\\lib\\site-packages\\ee\\computedobject.py:150\u001b[0m, in \u001b[0;36mComputedObject.encode_cloud_value\u001b[1;34m(self, encoder)\u001b[0m\n\u001b[0;32m    148\u001b[0m   value \u001b[39m=\u001b[39m \u001b[39mself\u001b[39m\u001b[39m.\u001b[39margs[name]\n\u001b[0;32m    149\u001b[0m   \u001b[39mif\u001b[39;00m value \u001b[39mis\u001b[39;00m \u001b[39mnot\u001b[39;00m \u001b[39mNone\u001b[39;00m:\n\u001b[1;32m--> 150\u001b[0m     encoded_args[name] \u001b[39m=\u001b[39m {\u001b[39m'\u001b[39m\u001b[39mvalueReference\u001b[39m\u001b[39m'\u001b[39m: encoder(value)}\n\u001b[0;32m    151\u001b[0m invocation[\u001b[39m'\u001b[39m\u001b[39marguments\u001b[39m\u001b[39m'\u001b[39m] \u001b[39m=\u001b[39m encoded_args\n\u001b[0;32m    152\u001b[0m \u001b[39mreturn\u001b[39;00m {\u001b[39m'\u001b[39m\u001b[39mfunctionInvocationValue\u001b[39m\u001b[39m'\u001b[39m: invocation}\n",
            "File \u001b[1;32mc:\\Users\\franc\\anaconda3\\envs\\Curso_PDIS_Windows\\lib\\site-packages\\ee\\serializer.py:219\u001b[0m, in \u001b[0;36mSerializer._encode_cloud_object\u001b[1;34m(self, obj)\u001b[0m\n\u001b[0;32m    207\u001b[0m   result \u001b[39m=\u001b[39m {\n\u001b[0;32m    208\u001b[0m       \u001b[39m'\u001b[39m\u001b[39mfunctionInvocationValue\u001b[39m\u001b[39m'\u001b[39m: {\n\u001b[0;32m    209\u001b[0m           \u001b[39m'\u001b[39m\u001b[39mfunctionName\u001b[39m\u001b[39m'\u001b[39m: \u001b[39m'\u001b[39m\u001b[39mDate\u001b[39m\u001b[39m'\u001b[39m,\n\u001b[1;32m   (...)\u001b[0m\n\u001b[0;32m    215\u001b[0m       }\n\u001b[0;32m    216\u001b[0m   }\n\u001b[0;32m    217\u001b[0m \u001b[39melif\u001b[39;00m \u001b[39misinstance\u001b[39m(obj, encodable\u001b[39m.\u001b[39mEncodable):\n\u001b[0;32m    218\u001b[0m   \u001b[39m# Some objects know how to encode themselves.\u001b[39;00m\n\u001b[1;32m--> 219\u001b[0m   result \u001b[39m=\u001b[39m obj\u001b[39m.\u001b[39;49mencode_cloud_value(\u001b[39mself\u001b[39;49m\u001b[39m.\u001b[39;49m_encode_cloud_object)\n\u001b[0;32m    220\u001b[0m \u001b[39melif\u001b[39;00m \u001b[39misinstance\u001b[39m(obj, (\u001b[39mlist\u001b[39m, \u001b[39mtuple\u001b[39m)):\n\u001b[0;32m    221\u001b[0m   \u001b[39m# Lists are encoded recursively.\u001b[39;00m\n\u001b[0;32m    222\u001b[0m   \u001b[39mif\u001b[39;00m \u001b[39mself\u001b[39m\u001b[39m.\u001b[39m_is_compound:\n",
            "File \u001b[1;32mc:\\Users\\franc\\anaconda3\\envs\\Curso_PDIS_Windows\\lib\\site-packages\\ee\\computedobject.py:135\u001b[0m, in \u001b[0;36mComputedObject.encode_cloud_value\u001b[1;34m(self, encoder)\u001b[0m\n\u001b[0;32m    128\u001b[0m     ref \u001b[39m=\u001b[39m encoder\u001b[39m.\u001b[39m\u001b[39m__self__\u001b[39m\u001b[39m.\u001b[39munbound_name\n\u001b[0;32m    129\u001b[0m   \u001b[39mif\u001b[39;00m ref \u001b[39mis\u001b[39;00m \u001b[39mNone\u001b[39;00m:\n\u001b[0;32m    130\u001b[0m     \u001b[39m# We are trying to call getInfo() or make some other server call inside\u001b[39;00m\n\u001b[0;32m    131\u001b[0m     \u001b[39m# a function passed to collection.map() or .iterate(), and the call uses\u001b[39;00m\n\u001b[0;32m    132\u001b[0m     \u001b[39m# one of the function arguments. The argument will be unbound outside of\u001b[39;00m\n\u001b[0;32m    133\u001b[0m     \u001b[39m# the map operation and cannot be evaluated. See the Count Functions\u001b[39;00m\n\u001b[0;32m    134\u001b[0m     \u001b[39m# case in customfunction.py for details on the unbound_name mechanism.\u001b[39;00m\n\u001b[1;32m--> 135\u001b[0m     \u001b[39mraise\u001b[39;00m ee_exception\u001b[39m.\u001b[39mEEException(\n\u001b[0;32m    136\u001b[0m         \u001b[39m'\u001b[39m\u001b[39mA mapped function\u001b[39m\u001b[39m\\'\u001b[39;00m\u001b[39ms arguments cannot be used in client-side operations\u001b[39m\u001b[39m'\u001b[39m\n\u001b[0;32m    137\u001b[0m     )\n\u001b[0;32m    138\u001b[0m   \u001b[39mreturn\u001b[39;00m {\u001b[39m'\u001b[39m\u001b[39margumentReference\u001b[39m\u001b[39m'\u001b[39m: ref}\n\u001b[0;32m    139\u001b[0m \u001b[39melse\u001b[39;00m:\n",
            "\u001b[1;31mEEException\u001b[0m: A mapped function's arguments cannot be used in client-side operations"
          ]
        }
      ],
      "source": [
        "# Multitemporal Despeckle function \n",
        "def multitemporalDespeckle(images, radius, units, opt_timeWindow=None):\n",
        "        \"\"\"\n",
        "        Function for multi-temporal despeckling\n",
        "            - images: S1 Image Collection\n",
        "            - radius: radius of the square Kernel\n",
        "            - units: unit of radius the Kernel\n",
        "            - opt_timeWindow: Temporal time window\n",
        "        \n",
        "        Note: this is a simplified function of the original (Quegan, 2000),where the correlation \n",
        "        is considered null.\n",
        "        In this sense, this filter must be applied only in areas with temporal changes, not bare-soil and cities. \n",
        "        \"\"\"\n",
        "        #bandNames = ee.Image(images.first()).bandNames()\n",
        "        #NewbandNames = bandNames.map(lambda b: ee.String(b).cat('_tmpfilter'))\n",
        "        #bandNamesMean = bandNames.map(lambda b: ee.String(b).cat('_mean'))\n",
        "        #bandNamesRatio = bandNames.map(lambda b: ee.String(b).cat('_ratio'))\n",
        "        \n",
        "        def mapMeanSpace(i):\n",
        "            '''\n",
        "            \n",
        "            '''\n",
        "            pol_name = ee.String(i.bandNames().get(0)) # polarization band name\n",
        "            spatial_filter_name = pol_name.cat('_multilook')\n",
        "            ## bandNamesMean_pol = pol_name.map(lambda b: ee.String(b).cat('_mean'))\n",
        "            ratio_name = pol_name.cat('_ratio')\n",
        "            \n",
        "            reducer = ee.Reducer.mean()\n",
        "            kernel = ee.Kernel.square(radius, units)\n",
        "            mean = i.reduceNeighborhood(reducer, kernel).rename(spatial_filter_name) # multilook (average)\n",
        "            ratio = i.divide(mean).rename(ratio_name) # Intensity/ Imean\n",
        "            return (i.addBands(mean).addBands(ratio))\n",
        "\n",
        "        if opt_timeWindow == None:\n",
        "            timeWindow = dict(before=-3, after=3, units='month')\n",
        "        else:\n",
        "            timeWindow = opt_timeWindow\n",
        "        \n",
        "        # compute spatial average (kernel multilook) for all images\n",
        "        \n",
        "        meanSpaceVV = images.select(\"VV\").map(mapMeanSpace) # Spatial filter in VV\n",
        "        meanSpaceVH= images.select(\"VH\").map(mapMeanSpace) # Spatial filter in VH\n",
        "        meanSpace = meanSpaceVV.combine(meanSpaceVH)\n",
        "        \n",
        "        # computes a multi-temporal despeckle function for a single image\n",
        "\n",
        "        def multitemporalDespeckleSingle(image):\n",
        "            t = image.date() # get image date\n",
        "            fro = t.advance(ee.Number(timeWindow['before']), timeWindow['units']) # temporal window end \n",
        "            to = t.advance(ee.Number(timeWindow['after']), timeWindow['units']) # temporal window start\n",
        "            \n",
        "            pol_band_name = ee.String(image.bandNames().get(0))\n",
        "            #print(pol_band_name.getInfo()==\"VV\")\n",
        "            #print((ee.String(image.bandNames().get(0)).getInfo())=='VV')\n",
        "            #print((ee.String(image.bandNames().get(0)).getInfo())==ee.String('VV'))\n",
        "            #print(ee.String(image.bandNames().get(0)))\n",
        "            #print(image.select(\"VV.*\").bandNames().size().getInfo()) \n",
        "            threshold = ee.String(ee.Number(timeWindow['after']))\n",
        "            #print(ee.String(image.bandNames().get(0)).getInfo())\n",
        "            \n",
        "            # .cat(ee.String(ee.Number(threshold)))\n",
        "            NewbandNames = pol_band_name.cat(\"_\").cat(ee.String(ee.Number(threshold)))\\\n",
        "                .cat(\"_\").cat(ee.String((timeWindow['units']))).cat(\"_temporalfilter\")\n",
        "            \n",
        "            # MeanSpace2 is an Image Collection of all the Ratios within the time window \n",
        "            #mean_space_pol = meanSpace.select(ee.String(image.bandNames().get(0)).cat(\".*\"))\n",
        "            #mean_space_pol = meanSpace.select(\"VV.*\")\n",
        "            meanSpace2_VV = ee.ImageCollection(meanSpaceVV.select(\".._ratio\")).filterDate(fro, to) \\\n",
        "                .filter(ee.Filter.eq('relativeOrbitNumber_start', image.get('relativeOrbitNumber_start')))\n",
        "            Ik_VV = image.select(\".._multilook\") # Ik\n",
        "            Img_temporal_filtered_VV = Ik_VV.divide(meanSpace2_VV.count()).multiply(meanSpace2_VV.sum())\\\n",
        "                    .rename(NewbandNames)\n",
        "            \n",
        "            meanSpace2_VH = ee.ImageCollection(meanSpaceVH.select(\".._ratio\")).filterDate(fro, to) \\\n",
        "                .filter(ee.Filter.eq('relativeOrbitNumber_start', image.get('relativeOrbitNumber_start')))\n",
        "            \n",
        "            Ik_VH = image.select(\".._multilook\") # Ik\n",
        "            Img_temporal_filtered_VH = Ik_VH.divide(meanSpace2_VH.count()).multiply(meanSpace2_VH.sum())\\\n",
        "                    .rename(NewbandNames)\n",
        "            \n",
        "            return image.addBands(Img_temporal_filtered_VV).addBands(Img_temporal_filtered_VH)\\\n",
        "                .set('system:time_start',image.get('system:time_start'))\n",
        "            #return (Ik)\n",
        "        # .select(\"VV.*\") # Select the VV polarization bands\n",
        "        \n",
        "        Temp_filter_VV = meanSpace.select(\"VV.*\").map(multitemporalDespeckleSingle) # Temporal filter in VV\n",
        "        Temp_filter_VH= meanSpace.select(\"VH.*\").map(multitemporalDespeckleSingle) # Temporal filter in VH\n",
        "        meanSpace2 = Temp_filter_VV.combine(Temp_filter_VH)\n",
        "        \n",
        "        #return meanSpace.map(multitemporalDespeckleSingle)\n",
        "        #threshold = ee.String(ee.Number(timeWindow['after'])).getInfo()#.get(0)\n",
        "        #print(ee.String(ee.Number(threshold)).cat(\"asd\"))\n",
        "        # print(((\"6asd\").cat((threshold))).getInfo())\n",
        "        #print(ee.String(\"asd\").cat(threshold))\n",
        "        #print(ee.String(\"asd\").cat(ee.String(\"asd\")))\n",
        "        return (meanSpace2)\n",
        "  \n",
        "# Making a function in order to apply the same filter over multiples ImageCollection (IC)\n",
        "def filterImages(collection, startDate, endDate, region): \n",
        "  return collection.filterDate(startDate, endDate).filterBounds(region)\n",
        "\n",
        "S1_temporal_multilooked = multitemporalDespeckle(S1, radius, units,\n",
        "                                                       {'before': -6, 'after': 6, 'units': 'month'})\n",
        "\n",
        "S1_temporal_multilooked.first()"
      ]
    },
    {
      "cell_type": "code",
      "execution_count": null,
      "metadata": {},
      "outputs": [],
      "source": [
        "S1_temporal_multilooked.select(ee.String(S1_temporal_multilooked.first().bandNames().get(0)).cat(\".*\"))"
      ]
    },
    {
      "cell_type": "code",
      "execution_count": 155,
      "metadata": {},
      "outputs": [
        {
          "data": {
            "text/plain": [
              "True"
            ]
          },
          "execution_count": 155,
          "metadata": {},
          "output_type": "execute_result"
        }
      ],
      "source": [
        "(ee.String(S1.first().bandNames().get(0)).getInfo())=='VV'"
      ]
    },
    {
      "cell_type": "code",
      "execution_count": 176,
      "metadata": {},
      "outputs": [
        {
          "ename": "AttributeError",
          "evalue": "'Image' object has no attribute 'toBands'",
          "output_type": "error",
          "traceback": [
            "\u001b[1;31m---------------------------------------------------------------------------\u001b[0m",
            "\u001b[1;31mAttributeError\u001b[0m                            Traceback (most recent call last)",
            "\u001b[1;32md:\\Documents\\Fran\\MAIE\\14_Tutoria_de_investigacion\\A_Proyects\\Italy_Greifeneder_Model_Validation\\01_Codes\\B_S1_Multitemporal_Despeckle.ipynb Cell 9\u001b[0m in \u001b[0;36m<module>\u001b[1;34m\u001b[0m\n\u001b[0;32m     <a href='vscode-notebook-cell:/d%3A/Documents/Fran/MAIE/14_Tutoria_de_investigacion/A_Proyects/Italy_Greifeneder_Model_Validation/01_Codes/B_S1_Multitemporal_Despeckle.ipynb#X22sZmlsZQ%3D%3D?line=12'>13</a>\u001b[0m     \u001b[39mprint\u001b[39m(ee\u001b[39m.\u001b[39mString(i\u001b[39m.\u001b[39mtoBands()\u001b[39m.\u001b[39mbandNames()\u001b[39m.\u001b[39mget(\u001b[39m0\u001b[39m))\u001b[39m==\u001b[39m\u001b[39m\"\u001b[39m\u001b[39mVV\u001b[39m\u001b[39m\"\u001b[39m)\n\u001b[0;32m     <a href='vscode-notebook-cell:/d%3A/Documents/Fran/MAIE/14_Tutoria_de_investigacion/A_Proyects/Italy_Greifeneder_Model_Validation/01_Codes/B_S1_Multitemporal_Despeckle.ipynb#X22sZmlsZQ%3D%3D?line=13'>14</a>\u001b[0m \u001b[39m#combinados = S1.select(\"VV\").map(mapMeanSpace).combine(S1.select(\"VH\").map(mapMeanSpace))\u001b[39;00m\n\u001b[1;32m---> <a href='vscode-notebook-cell:/d%3A/Documents/Fran/MAIE/14_Tutoria_de_investigacion/A_Proyects/Italy_Greifeneder_Model_Validation/01_Codes/B_S1_Multitemporal_Despeckle.ipynb#X22sZmlsZQ%3D%3D?line=14'>15</a>\u001b[0m S1\u001b[39m.\u001b[39;49mmap(print_fistband)\n",
            "File \u001b[1;32mc:\\Users\\franc\\anaconda3\\envs\\Curso_PDIS_Windows\\lib\\site-packages\\ee\\collection.py:204\u001b[0m, in \u001b[0;36mCollection.map\u001b[1;34m(self, algorithm, opt_dropNulls)\u001b[0m\n\u001b[0;32m    202\u001b[0m element_type \u001b[39m=\u001b[39m \u001b[39mself\u001b[39m\u001b[39m.\u001b[39melementType()\n\u001b[0;32m    203\u001b[0m with_cast \u001b[39m=\u001b[39m \u001b[39mlambda\u001b[39;00m e: algorithm(element_type(e))\n\u001b[1;32m--> 204\u001b[0m \u001b[39mreturn\u001b[39;00m \u001b[39mself\u001b[39m\u001b[39m.\u001b[39m_cast(apifunction\u001b[39m.\u001b[39;49mApiFunction\u001b[39m.\u001b[39;49mcall_(\n\u001b[0;32m    205\u001b[0m     \u001b[39m'\u001b[39;49m\u001b[39mCollection.map\u001b[39;49m\u001b[39m'\u001b[39;49m, \u001b[39mself\u001b[39;49m, with_cast, opt_dropNulls))\n",
            "File \u001b[1;32mc:\\Users\\franc\\anaconda3\\envs\\Curso_PDIS_Windows\\lib\\site-packages\\ee\\apifunction.py:81\u001b[0m, in \u001b[0;36mApiFunction.call_\u001b[1;34m(cls, name, *args, **kwargs)\u001b[0m\n\u001b[0;32m     68\u001b[0m \u001b[39m@classmethod\u001b[39m\n\u001b[0;32m     69\u001b[0m \u001b[39mdef\u001b[39;00m \u001b[39mcall_\u001b[39m(\u001b[39mcls\u001b[39m, name, \u001b[39m*\u001b[39margs, \u001b[39m*\u001b[39m\u001b[39m*\u001b[39mkwargs):\n\u001b[0;32m     70\u001b[0m \u001b[39m  \u001b[39m\u001b[39m\"\"\"Call a named API function with positional and keyword arguments.\u001b[39;00m\n\u001b[0;32m     71\u001b[0m \n\u001b[0;32m     72\u001b[0m \u001b[39m  Args:\u001b[39;00m\n\u001b[1;32m   (...)\u001b[0m\n\u001b[0;32m     79\u001b[0m \u001b[39m    a recognized return type, the returned value will be cast to that type.\u001b[39;00m\n\u001b[0;32m     80\u001b[0m \u001b[39m  \"\"\"\u001b[39;00m\n\u001b[1;32m---> 81\u001b[0m   \u001b[39mreturn\u001b[39;00m \u001b[39mcls\u001b[39m\u001b[39m.\u001b[39mlookup(name)\u001b[39m.\u001b[39mcall(\u001b[39m*\u001b[39margs, \u001b[39m*\u001b[39m\u001b[39m*\u001b[39mkwargs)\n",
            "File \u001b[1;32mc:\\Users\\franc\\anaconda3\\envs\\Curso_PDIS_Windows\\lib\\site-packages\\ee\\function.py:67\u001b[0m, in \u001b[0;36mFunction.call\u001b[1;34m(self, *args, **kwargs)\u001b[0m\n\u001b[0;32m     55\u001b[0m \u001b[39mdef\u001b[39;00m \u001b[39mcall\u001b[39m(\u001b[39mself\u001b[39m, \u001b[39m*\u001b[39margs, \u001b[39m*\u001b[39m\u001b[39m*\u001b[39mkwargs):\n\u001b[0;32m     56\u001b[0m \u001b[39m  \u001b[39m\u001b[39m\"\"\"Calls the function with the given positional and keyword arguments.\u001b[39;00m\n\u001b[0;32m     57\u001b[0m \n\u001b[0;32m     58\u001b[0m \u001b[39m  Args:\u001b[39;00m\n\u001b[1;32m   (...)\u001b[0m\n\u001b[0;32m     65\u001b[0m \u001b[39m    to that type.\u001b[39;00m\n\u001b[0;32m     66\u001b[0m \u001b[39m  \"\"\"\u001b[39;00m\n\u001b[1;32m---> 67\u001b[0m   \u001b[39mreturn\u001b[39;00m \u001b[39mself\u001b[39;49m\u001b[39m.\u001b[39;49mapply(\u001b[39mself\u001b[39;49m\u001b[39m.\u001b[39;49mnameArgs(args, kwargs))\n",
            "File \u001b[1;32mc:\\Users\\franc\\anaconda3\\envs\\Curso_PDIS_Windows\\lib\\site-packages\\ee\\function.py:80\u001b[0m, in \u001b[0;36mFunction.apply\u001b[1;34m(self, named_args)\u001b[0m\n\u001b[0;32m     69\u001b[0m \u001b[39mdef\u001b[39;00m \u001b[39mapply\u001b[39m(\u001b[39mself\u001b[39m, named_args):\n\u001b[0;32m     70\u001b[0m \u001b[39m  \u001b[39m\u001b[39m\"\"\"Calls the function with a dictionary of named arguments.\u001b[39;00m\n\u001b[0;32m     71\u001b[0m \n\u001b[0;32m     72\u001b[0m \u001b[39m  Args:\u001b[39;00m\n\u001b[1;32m   (...)\u001b[0m\n\u001b[0;32m     78\u001b[0m \u001b[39m    to that type.\u001b[39;00m\n\u001b[0;32m     79\u001b[0m \u001b[39m  \"\"\"\u001b[39;00m\n\u001b[1;32m---> 80\u001b[0m   result \u001b[39m=\u001b[39m computedobject\u001b[39m.\u001b[39mComputedObject(\u001b[39mself\u001b[39m, \u001b[39mself\u001b[39;49m\u001b[39m.\u001b[39;49mpromoteArgs(named_args))\n\u001b[0;32m     81\u001b[0m   \u001b[39mreturn\u001b[39;00m Function\u001b[39m.\u001b[39m_promoter(result, \u001b[39mself\u001b[39m\u001b[39m.\u001b[39mgetReturnType())\n",
            "File \u001b[1;32mc:\\Users\\franc\\anaconda3\\envs\\Curso_PDIS_Windows\\lib\\site-packages\\ee\\function.py:107\u001b[0m, in \u001b[0;36mFunction.promoteArgs\u001b[1;34m(self, args)\u001b[0m\n\u001b[0;32m    105\u001b[0m name \u001b[39m=\u001b[39m spec[\u001b[39m'\u001b[39m\u001b[39mname\u001b[39m\u001b[39m'\u001b[39m]\n\u001b[0;32m    106\u001b[0m \u001b[39mif\u001b[39;00m name \u001b[39min\u001b[39;00m args:\n\u001b[1;32m--> 107\u001b[0m   promoted_args[name] \u001b[39m=\u001b[39m Function\u001b[39m.\u001b[39;49m_promoter(args[name], spec[\u001b[39m'\u001b[39;49m\u001b[39mtype\u001b[39;49m\u001b[39m'\u001b[39;49m])\n\u001b[0;32m    108\u001b[0m \u001b[39melif\u001b[39;00m \u001b[39mnot\u001b[39;00m spec\u001b[39m.\u001b[39mget(\u001b[39m'\u001b[39m\u001b[39moptional\u001b[39m\u001b[39m'\u001b[39m):\n\u001b[0;32m    109\u001b[0m   \u001b[39mraise\u001b[39;00m ee_exception\u001b[39m.\u001b[39mEEException(\n\u001b[0;32m    110\u001b[0m       \u001b[39m'\u001b[39m\u001b[39mRequired argument (\u001b[39m\u001b[39m%s\u001b[39;00m\u001b[39m) missing to function: \u001b[39m\u001b[39m%s\u001b[39;00m\u001b[39m'\u001b[39m\n\u001b[0;32m    111\u001b[0m       \u001b[39m%\u001b[39m (name, \u001b[39mself\u001b[39m\u001b[39m.\u001b[39mname))\n",
            "File \u001b[1;32mc:\\Users\\franc\\anaconda3\\envs\\Curso_PDIS_Windows\\lib\\site-packages\\ee\\__init__.py:257\u001b[0m, in \u001b[0;36m_Promote\u001b[1;34m(arg, klass)\u001b[0m\n\u001b[0;32m    254\u001b[0m \u001b[39melif\u001b[39;00m \u001b[39mcallable\u001b[39m(arg):\n\u001b[0;32m    255\u001b[0m   \u001b[39m# A native function that needs to be wrapped.\u001b[39;00m\n\u001b[0;32m    256\u001b[0m   args_count \u001b[39m=\u001b[39m \u001b[39mlen\u001b[39m(inspect\u001b[39m.\u001b[39mgetfullargspec(arg)\u001b[39m.\u001b[39margs)\n\u001b[1;32m--> 257\u001b[0m   \u001b[39mreturn\u001b[39;00m CustomFunction\u001b[39m.\u001b[39;49mcreate(arg, \u001b[39m'\u001b[39;49m\u001b[39mObject\u001b[39;49m\u001b[39m'\u001b[39;49m, [\u001b[39m'\u001b[39;49m\u001b[39mObject\u001b[39;49m\u001b[39m'\u001b[39;49m] \u001b[39m*\u001b[39;49m args_count)\n\u001b[0;32m    258\u001b[0m \u001b[39melif\u001b[39;00m \u001b[39misinstance\u001b[39m(arg, Encodable):\n\u001b[0;32m    259\u001b[0m   \u001b[39m# An ee.Function or a computed function like the return value of\u001b[39;00m\n\u001b[0;32m    260\u001b[0m   \u001b[39m# Image.parseExpression().\u001b[39;00m\n\u001b[0;32m    261\u001b[0m   \u001b[39mreturn\u001b[39;00m arg\n",
            "File \u001b[1;32mc:\\Users\\franc\\anaconda3\\envs\\Curso_PDIS_Windows\\lib\\site-packages\\ee\\customfunction.py:124\u001b[0m, in \u001b[0;36mCustomFunction.create\u001b[1;34m(func, return_type, arg_types)\u001b[0m\n\u001b[0;32m    118\u001b[0m args \u001b[39m=\u001b[39m [{\u001b[39m'\u001b[39m\u001b[39mname\u001b[39m\u001b[39m'\u001b[39m: \u001b[39mNone\u001b[39;00m, \u001b[39m'\u001b[39m\u001b[39mtype\u001b[39m\u001b[39m'\u001b[39m: StringifyType(i)} \u001b[39mfor\u001b[39;00m i \u001b[39min\u001b[39;00m arg_types]\n\u001b[0;32m    119\u001b[0m signature \u001b[39m=\u001b[39m {\n\u001b[0;32m    120\u001b[0m     \u001b[39m'\u001b[39m\u001b[39mname\u001b[39m\u001b[39m'\u001b[39m: \u001b[39m'\u001b[39m\u001b[39m'\u001b[39m,\n\u001b[0;32m    121\u001b[0m     \u001b[39m'\u001b[39m\u001b[39mreturns\u001b[39m\u001b[39m'\u001b[39m: StringifyType(return_type),\n\u001b[0;32m    122\u001b[0m     \u001b[39m'\u001b[39m\u001b[39margs\u001b[39m\u001b[39m'\u001b[39m: args\n\u001b[0;32m    123\u001b[0m }\n\u001b[1;32m--> 124\u001b[0m \u001b[39mreturn\u001b[39;00m CustomFunction(signature, func)\n",
            "File \u001b[1;32mc:\\Users\\franc\\anaconda3\\envs\\Curso_PDIS_Windows\\lib\\site-packages\\ee\\customfunction.py:42\u001b[0m, in \u001b[0;36mCustomFunction.__init__\u001b[1;34m(self, signature, body)\u001b[0m\n\u001b[0;32m     28\u001b[0m \u001b[39m\u001b[39m\u001b[39m\"\"\"Creates a function defined by a given expression with unbound variables.\u001b[39;00m\n\u001b[0;32m     29\u001b[0m \n\u001b[0;32m     30\u001b[0m \u001b[39mThe expression is created by evaluating the given function\u001b[39;00m\n\u001b[1;32m   (...)\u001b[0m\n\u001b[0;32m     37\u001b[0m \u001b[39m  body: The Python function to evaluate.\u001b[39;00m\n\u001b[0;32m     38\u001b[0m \u001b[39m\"\"\"\u001b[39;00m\n\u001b[0;32m     39\u001b[0m variables \u001b[39m=\u001b[39m [CustomFunction\u001b[39m.\u001b[39mvariable(arg[\u001b[39m'\u001b[39m\u001b[39mtype\u001b[39m\u001b[39m'\u001b[39m], arg[\u001b[39m'\u001b[39m\u001b[39mname\u001b[39m\u001b[39m'\u001b[39m])\n\u001b[0;32m     40\u001b[0m              \u001b[39mfor\u001b[39;00m arg \u001b[39min\u001b[39;00m signature[\u001b[39m'\u001b[39m\u001b[39margs\u001b[39m\u001b[39m'\u001b[39m]]\n\u001b[1;32m---> 42\u001b[0m \u001b[39mif\u001b[39;00m body(\u001b[39m*\u001b[39;49mvariables) \u001b[39mis\u001b[39;00m \u001b[39mNone\u001b[39;00m:\n\u001b[0;32m     43\u001b[0m   \u001b[39mraise\u001b[39;00m ee_exception\u001b[39m.\u001b[39mEEException(\u001b[39m'\u001b[39m\u001b[39mUser-defined methods must return a value\u001b[39m\u001b[39m'\u001b[39m)\n\u001b[0;32m     45\u001b[0m \u001b[39m# The signature of the function.\u001b[39;00m\n",
            "File \u001b[1;32mc:\\Users\\franc\\anaconda3\\envs\\Curso_PDIS_Windows\\lib\\site-packages\\ee\\collection.py:203\u001b[0m, in \u001b[0;36mCollection.map.<locals>.<lambda>\u001b[1;34m(e)\u001b[0m\n\u001b[0;32m    185\u001b[0m \u001b[39m\u001b[39m\u001b[39m\"\"\"Maps an algorithm over a collection.\u001b[39;00m\n\u001b[0;32m    186\u001b[0m \n\u001b[0;32m    187\u001b[0m \u001b[39mArgs:\u001b[39;00m\n\u001b[1;32m   (...)\u001b[0m\n\u001b[0;32m    200\u001b[0m \u001b[39m  ee_exception.EEException: if algorithm is not a function.\u001b[39;00m\n\u001b[0;32m    201\u001b[0m \u001b[39m\"\"\"\u001b[39;00m\n\u001b[0;32m    202\u001b[0m element_type \u001b[39m=\u001b[39m \u001b[39mself\u001b[39m\u001b[39m.\u001b[39melementType()\n\u001b[1;32m--> 203\u001b[0m with_cast \u001b[39m=\u001b[39m \u001b[39mlambda\u001b[39;00m e: algorithm(element_type(e))\n\u001b[0;32m    204\u001b[0m \u001b[39mreturn\u001b[39;00m \u001b[39mself\u001b[39m\u001b[39m.\u001b[39m_cast(apifunction\u001b[39m.\u001b[39mApiFunction\u001b[39m.\u001b[39mcall_(\n\u001b[0;32m    205\u001b[0m     \u001b[39m'\u001b[39m\u001b[39mCollection.map\u001b[39m\u001b[39m'\u001b[39m, \u001b[39mself\u001b[39m, with_cast, opt_dropNulls))\n",
            "\u001b[1;32md:\\Documents\\Fran\\MAIE\\14_Tutoria_de_investigacion\\A_Proyects\\Italy_Greifeneder_Model_Validation\\01_Codes\\B_S1_Multitemporal_Despeckle.ipynb Cell 9\u001b[0m in \u001b[0;36mprint_fistband\u001b[1;34m(i)\u001b[0m\n\u001b[0;32m     <a href='vscode-notebook-cell:/d%3A/Documents/Fran/MAIE/14_Tutoria_de_investigacion/A_Proyects/Italy_Greifeneder_Model_Validation/01_Codes/B_S1_Multitemporal_Despeckle.ipynb#X22sZmlsZQ%3D%3D?line=11'>12</a>\u001b[0m \u001b[39mdef\u001b[39;00m \u001b[39mprint_fistband\u001b[39m(i):\n\u001b[1;32m---> <a href='vscode-notebook-cell:/d%3A/Documents/Fran/MAIE/14_Tutoria_de_investigacion/A_Proyects/Italy_Greifeneder_Model_Validation/01_Codes/B_S1_Multitemporal_Despeckle.ipynb#X22sZmlsZQ%3D%3D?line=12'>13</a>\u001b[0m     \u001b[39mprint\u001b[39m(ee\u001b[39m.\u001b[39mString(i\u001b[39m.\u001b[39;49mtoBands()\u001b[39m.\u001b[39mbandNames()\u001b[39m.\u001b[39mget(\u001b[39m0\u001b[39m))\u001b[39m==\u001b[39m\u001b[39m\"\u001b[39m\u001b[39mVV\u001b[39m\u001b[39m\"\u001b[39m)\n",
            "\u001b[1;31mAttributeError\u001b[0m: 'Image' object has no attribute 'toBands'"
          ]
        }
      ],
      "source": [
        "# def mapMeanSpace(i):\n",
        "#     pol_name = ee.String(i.bandNames().get(0)) # polarization band name\n",
        "#     spatial_filter_name = pol_name.cat('_multilook')\n",
        "#     ## bandNamesMean_pol = pol_name.map(lambda b: ee.String(b).cat('_mean'))\n",
        "#     ratio_name = pol_name.cat('_ratio')\n",
        "    \n",
        "#     reducer = ee.Reducer.mean()\n",
        "#     kernel = ee.Kernel.square(radius, units)\n",
        "#     mean = i.reduceNeighborhood(reducer, kernel).rename(spatial_filter_name) # multilook (average)\n",
        "#     ratio = i.divide(mean).rename(ratio_name) # Intensity/ Imean\n",
        "#     return (i.addBands(mean).addBands(ratio))\n",
        "def print_fistband(i):\n",
        "    print(ee.String(i.bandNames().get(0))==\"VV\")\n",
        "#combinados = S1.select(\"VV\").map(mapMeanSpace).combine(S1.select(\"VH\").map(mapMeanSpace))\n",
        "S1.map(print_fistband)"
      ]
    },
    {
      "cell_type": "code",
      "execution_count": 197,
      "metadata": {},
      "outputs": [
        {
          "name": "stdout",
          "output_type": "stream",
          "text": [
            "12\n"
          ]
        }
      ],
      "source": [
        "\n",
        "\n",
        "# Define a function to print the first band name of an image\n",
        "def print_first_band_name(image):\n",
        "    # Get the band names of the image\n",
        "    #band_name = image.bandNames().get(0)\n",
        "    #return(image.)\n",
        "    # Print the first band name\n",
        "    (print(\"First band name:\"))\n",
        "\n",
        "# Load an image collection\n",
        "collection = ee.ImageCollection(\"LANDSAT/LC08/C01/T1_TOA\")#.select(\"B1\")\n",
        "\n",
        "# Map the function over the collection\n",
        "#collection.map(print_first_band_name)\n",
        "print(collection.first().bandNames().size().getInfo())"
      ]
    },
    {
      "cell_type": "code",
      "execution_count": 22,
      "metadata": {},
      "outputs": [],
      "source": [
        "start_date=\"2022-01-01\"\n",
        "end_date=\"2023-05-27\"\n",
        "S1 = ee.ImageCollection(\"COPERNICUS/S1_GRD\")\n",
        "S1 = filterImages(S1, start_date, end_date, ROI)\n",
        "radius = 3\n",
        "units = 'pixels'\n",
        "\n",
        "# S1_temporal_multilooked 12 months temporal window\n",
        "S1_temporal_multilooked_12= multitemporalDespeckle(S1, radius, units,\n",
        "                                                       {'before': -12, 'after': 12, 'units': 'month'})\n",
        "# S1_temporal_multilooked 12 months temporal window\n",
        "S1_temporal_multilooked_6= multitemporalDespeckle(S1, radius, units,\n",
        "                                                       {'before': -6, 'after': 6, 'units': 'month'})\n",
        "# S1_temporal_multilooked 12 months temporal window\n",
        "S1_temporal_multilooked_3= multitemporalDespeckle(S1, radius, units,\n",
        "                                                       {'before': -3, 'after': 3, 'units': 'month'})\n",
        "# S1_temporal_multilooked 12 months temporal window\n",
        "S1_temporal_multilooked_1= multitemporalDespeckle(S1, radius, units,\n",
        "                                                       {'before': -1, 'after': 1, 'units': 'month'})"
      ]
    },
    {
      "cell_type": "code",
      "execution_count": 15,
      "metadata": {},
      "outputs": [
        {
          "data": {
            "text/html": [
              "<div><style>:root {\n",
              "  --font-color-primary: var(--jp-content-font-color0, rgba(0, 0, 0, 1));\n",
              "  --font-color-secondary: var(--jp-content-font-color2, rgba(0, 0, 0, 0.6));\n",
              "  --font-color-accent: rgba(123, 31, 162, 1);\n",
              "  --border-color: var(--jp-border-color2, #e0e0e0);\n",
              "  --background-color: var(--jp-layout-color0, white);\n",
              "  --background-color-row-even: var(--jp-layout-color1, white);\n",
              "  --background-color-row-odd: var(--jp-layout-color2, #eeeeee);\n",
              "}\n",
              "\n",
              "html[theme=\"dark\"],\n",
              "body[data-theme=\"dark\"],\n",
              "body.vscode-dark {\n",
              "  --font-color-primary: rgba(255, 255, 255, 1);\n",
              "  --font-color-secondary: rgba(255, 255, 255, 0.6);\n",
              "  --font-color-accent: rgb(173, 132, 190);\n",
              "  --border-color: #2e2e2e;\n",
              "  --background-color: #111111;\n",
              "  --background-color-row-even: #111111;\n",
              "  --background-color-row-odd: #313131;\n",
              "}\n",
              "\n",
              ".ee {\n",
              "  padding: 1em;\n",
              "  line-height: 1.5em;\n",
              "  min-width: 300px;\n",
              "  max-width: 1200px;\n",
              "  overflow-y: scroll;\n",
              "  max-height: 600px;\n",
              "  border: 1px solid var(--border-color);\n",
              "  font-family: monospace;\n",
              "}\n",
              "\n",
              ".ee li {\n",
              "  list-style-type: none;\n",
              "}\n",
              "\n",
              ".ee ul {\n",
              "  padding-left: 1.5em !important;\n",
              "  margin: 0;\n",
              "}\n",
              "\n",
              ".ee > ul {\n",
              "  padding-left: 0 !important;\n",
              "}\n",
              "\n",
              ".ee-open,\n",
              ".ee-shut {\n",
              "  color: var(--font-color-secondary);\n",
              "  cursor: pointer;\n",
              "  margin: 0;\n",
              "}\n",
              "\n",
              ".ee-open:hover,\n",
              ".ee-shut:hover {\n",
              "  color: var(--font-color-primary);\n",
              "}\n",
              "\n",
              ".ee-k {\n",
              "  color: var(--font-color-accent);\n",
              "  margin-right: 6px;\n",
              "}\n",
              "\n",
              ".ee-v {\n",
              "  color: var(--font-color-primary);\n",
              "}\n",
              "\n",
              ".ee-toggle {\n",
              "  display: none;\n",
              "}\n",
              "\n",
              ".ee-shut + ul {\n",
              "  display: none;\n",
              "}\n",
              "\n",
              ".ee-open + ul {\n",
              "  display: block;\n",
              "}\n",
              "\n",
              ".ee-shut::before {\n",
              "  display: inline-block;\n",
              "  content: \"▼\";\n",
              "  margin-right: 6px;\n",
              "  transform: rotate(-90deg);\n",
              "  transition: transform 0.2s;\n",
              "}\n",
              "\n",
              ".ee-open::before {\n",
              "  transform: rotate(0deg);\n",
              "  display: inline-block;\n",
              "  content: \"▼\";\n",
              "  margin-right: 6px;\n",
              "  transition: transform 0.2s;\n",
              "}\n",
              "</style><div class='ee'><ul><li><label class='ee-shut'>Date (2022-04-03 05:18:49)<input type='checkbox' class='ee-toggle'></label><ul><li><span class='ee-k'>type:</span><span class='ee-v'>Date</span></li><li><span class='ee-k'>value:</span><span class='ee-v'>1648963129000</span></li></ul></li></ul></div><script>function toggleHeader() {\n",
              "    const parent = this.parentElement;\n",
              "    parent.className = parent.className === \"ee-open\" ? \"ee-shut\" : \"ee-open\";\n",
              "}\n",
              "\n",
              "for (let c of document.getElementsByClassName(\"ee-toggle\")) {\n",
              "    c.onclick = toggleHeader;\n",
              "}</script></div>"
            ],
            "text/plain": [
              "<ee.ee_date.Date at 0x16b7a134a00>"
            ]
          },
          "execution_count": 15,
          "metadata": {},
          "output_type": "execute_result"
        }
      ],
      "source": [
        "Map.addLayer(S1_temporal_multilooked_1.first(),{},\"VV\")\n",
        "Map.addLayer(S1_temporal_multilooked_12.selec.first(),{},\"Multitemporal\")"
      ]
    },
    {
      "cell_type": "code",
      "execution_count": 297,
      "metadata": {},
      "outputs": [],
      "source": [
        "Sites= (SM_Sites.aggregate_array('Station_na'))\n",
        "output_results = \"../02_Data/06_GEE_Data_extractions\""
      ]
    },
    {
      "cell_type": "code",
      "execution_count": 309,
      "metadata": {},
      "outputs": [],
      "source": [
        "# Creation of a function for sampling and writing of results\n",
        "def band_samplig(ImageCollection,Sites,Product_name,Individual=True):\n",
        "  '''\n",
        "  This function makes a sampling of each Site for each band in the ImageCollection.\n",
        "\n",
        "  '''\n",
        "  results_dir = output_results\n",
        "  if not os.path.exists(results_dir): os.mkdir(results_dir)\n",
        "  Sites = SM_Sites.aggregate_array('Station_na')\n",
        "  Band_names= ImageCollection.first().bandNames()\n",
        "  for B in range(Band_names.size().getInfo()):\n",
        "    start = datetime.now()\n",
        "       \n",
        "    # Band selection\n",
        "    Band = ImageCollection.select(Band_names.get(B).getInfo())#.toBands()\n",
        "    if Individual:\n",
        "      for i in range(Sites.size().getInfo()): \n",
        "        output_dir = f'{results_dir}/{Product_name}/{Band_names.get(B).getInfo()}'\n",
        "        os.makedirs(output_dir,exist_ok=True)\n",
        "        ID = Sites.get(i).getInfo()\n",
        "        out_csv = os.path.join(output_dir, f'Site_{ID}.csv')\n",
        "        print(f'Banda {Band_names.get(B).getInfo()}, Site ID: {ID}, Site {i} de {Sites.size().getInfo()}')\n",
        "        # Filter Site\n",
        "        Site_i = SM_Sites.filter(ee.Filter.eq(\"Station_na\",ID))\n",
        "        # Fiter S1 Bounds with the Site 1\n",
        "        Band_site_i = Band.filterBounds(Site_i).toBands()\n",
        "        geemap.extract_values_to_points(Site_i, Band_site_i, out_csv,verbose=False)\n",
        "    else: \n",
        "      output_dir = f'{results_dir}/{Product_name}/{Band_names.get(B).getInfo()}'\n",
        "      os.makedirs(output_dir,exist_ok=True)\n",
        "      out_csv = os.path.join(output_dir, f'Sites_{Band_names.get(B).getInfo()}.csv')\n",
        "      Band = Band.toBands()\n",
        "      #Band_B = ee.ImageCollection(Band)\n",
        "      #geemap.extract_values_to_points(Sites, Band, out_csv,verbose=False)\n",
        "      #Site_i = SM_Sites.filter(ee.Filter.eq(\"Station_na\",'B1'))\n",
        "      geemap.extract_values_to_points(SM_Sites, Band, out_fc=out_csv, scale=30, \\\n",
        "        crs=None, crsTransform=None, tileScale=1, stats_type='FIRST', \\\n",
        "        timeout=1200, proxies=None)\n",
        "    print('Duration: {}'.format(datetime.now()-start))"
      ]
    },
    {
      "cell_type": "code",
      "execution_count": 606,
      "metadata": {},
      "outputs": [
        {
          "name": "stdout",
          "output_type": "stream",
          "text": [
            "Generating URL ...\n",
            "Downloading data from https://earthengine.googleapis.com/v1alpha/projects/earthengine-legacy/tables/500167389584401c36cdedbe62b7090a-b6ee2f5a1c9a5628a8ac66310fa9d6ab:getFeatures\n",
            "Please wait ...\n",
            "Data downloaded to d:\\Documents\\Fran\\MAIE\\14_Tutoria_de_investigacion\\A_Proyects\\Italy_Greifeneder_Model_Validation\\02_Data\\06_GEE_Data_extractions\\Sentinel_1\\VV_12_month_temporalfilter\\Sites_VV_12_month_temporalfilter.csv\n",
            "Duration: 0:00:34.291714\n",
            "Generating URL ...\n",
            "Downloading data from https://earthengine.googleapis.com/v1alpha/projects/earthengine-legacy/tables/390f8152d0db38944ec7ca57549b3c41-c5354e092a2547c96a63983e11dc85b8:getFeatures\n",
            "Please wait ...\n",
            "Data downloaded to d:\\Documents\\Fran\\MAIE\\14_Tutoria_de_investigacion\\A_Proyects\\Italy_Greifeneder_Model_Validation\\02_Data\\06_GEE_Data_extractions\\Sentinel_1\\VH_12_month_temporalfilter\\Sites_VH_12_month_temporalfilter.csv\n",
            "Duration: 0:00:18.245068\n",
            "Generating URL ...\n",
            "Downloading data from https://earthengine.googleapis.com/v1alpha/projects/earthengine-legacy/tables/d1a14b1d43e0cc2cc51ef4b289e60325-31d32e5a5d3f5ceca08695d330cbe813:getFeatures\n",
            "Please wait ...\n",
            "Data downloaded to d:\\Documents\\Fran\\MAIE\\14_Tutoria_de_investigacion\\A_Proyects\\Italy_Greifeneder_Model_Validation\\02_Data\\06_GEE_Data_extractions\\Sentinel_1\\VV_6_month_temporalfilter\\Sites_VV_6_month_temporalfilter.csv\n",
            "Duration: 0:00:15.954908\n",
            "Generating URL ...\n",
            "Downloading data from https://earthengine.googleapis.com/v1alpha/projects/earthengine-legacy/tables/1b5a2887824f915370aae446cb0ec99b-e80b9a3dd6a2bb3e287ec4dc29df8c6a:getFeatures\n",
            "Please wait ...\n",
            "Data downloaded to d:\\Documents\\Fran\\MAIE\\14_Tutoria_de_investigacion\\A_Proyects\\Italy_Greifeneder_Model_Validation\\02_Data\\06_GEE_Data_extractions\\Sentinel_1\\VH_6_month_temporalfilter\\Sites_VH_6_month_temporalfilter.csv\n",
            "Duration: 0:00:23.122533\n",
            "Generating URL ...\n",
            "Downloading data from https://earthengine.googleapis.com/v1alpha/projects/earthengine-legacy/tables/adfc495ac4165be071a5f065e1933ad9-05d078adef8c523ca87124b12e9790b5:getFeatures\n",
            "Please wait ...\n",
            "Data downloaded to d:\\Documents\\Fran\\MAIE\\14_Tutoria_de_investigacion\\A_Proyects\\Italy_Greifeneder_Model_Validation\\02_Data\\06_GEE_Data_extractions\\Sentinel_1\\VV_3_month_temporalfilter\\Sites_VV_3_month_temporalfilter.csv\n",
            "Duration: 0:00:26.198571\n",
            "Generating URL ...\n",
            "Downloading data from https://earthengine.googleapis.com/v1alpha/projects/earthengine-legacy/tables/125c9757eb970cc8d97a9c714ef76927-332b755db7604d49ea2e1106a0dfb64c:getFeatures\n",
            "Please wait ...\n",
            "Data downloaded to d:\\Documents\\Fran\\MAIE\\14_Tutoria_de_investigacion\\A_Proyects\\Italy_Greifeneder_Model_Validation\\02_Data\\06_GEE_Data_extractions\\Sentinel_1\\VH_3_month_temporalfilter\\Sites_VH_3_month_temporalfilter.csv\n",
            "Duration: 0:01:50.300346\n",
            "Generating URL ...\n",
            "Downloading data from https://earthengine.googleapis.com/v1alpha/projects/earthengine-legacy/tables/f59a953c4717fd50f5d0767c4ea24b0a-9dc8197a8ebd5fadc907959c40a28a58:getFeatures\n",
            "Please wait ...\n",
            "Data downloaded to d:\\Documents\\Fran\\MAIE\\14_Tutoria_de_investigacion\\A_Proyects\\Italy_Greifeneder_Model_Validation\\02_Data\\06_GEE_Data_extractions\\Sentinel_1\\VV_1_month_temporalfilter\\Sites_VV_1_month_temporalfilter.csv\n",
            "Duration: 0:00:15.699551\n",
            "Generating URL ...\n",
            "Downloading data from https://earthengine.googleapis.com/v1alpha/projects/earthengine-legacy/tables/145b4e5278358217fc1e336f585f454f-fe5a87ac0363d53f9d02b20969f3dd57:getFeatures\n",
            "Please wait ...\n",
            "Data downloaded to d:\\Documents\\Fran\\MAIE\\14_Tutoria_de_investigacion\\A_Proyects\\Italy_Greifeneder_Model_Validation\\02_Data\\06_GEE_Data_extractions\\Sentinel_1\\VH_1_month_temporalfilter\\Sites_VH_1_month_temporalfilter.csv\n",
            "Duration: 0:00:16.276213\n"
          ]
        }
      ],
      "source": [
        "#,'VV_multilook','VH_multilook','VV_temporalfilter','VH_temporalfilter'\n",
        "band_samplig(S1_temporal_multilooked_1.select(['VV','VH','VV_multilook','VH_multilook']),\\\n",
        "    SM_Sites,'Sentinel_1',False)\n",
        "band_samplig(S1_temporal_multilooked_12.select(['.*temporalfilter']),\\\n",
        "    SM_Sites,'Sentinel_1',False)\n",
        "band_samplig(S1_temporal_multilooked_6.select(['.*temporalfilter']),\\\n",
        "    SM_Sites,'Sentinel_1',False)\n",
        "band_samplig(S1_temporal_multilooked_3.select(['.*temporalfilter']),\\\n",
        "    SM_Sites,'Sentinel_1',False)\n",
        "band_samplig(S1_temporal_multilooked_1.select(['.*temporalfilter']),\\\n",
        "    SM_Sites,'Sentinel_1',False)"
      ]
    },
    {
      "cell_type": "code",
      "execution_count": null,
      "metadata": {},
      "outputs": [],
      "source": []
    }
  ],
  "metadata": {
    "colab": {
      "provenance": []
    },
    "kernelspec": {
      "display_name": "Python 3",
      "name": "python3"
    },
    "language_info": {
      "codemirror_mode": {
        "name": "ipython",
        "version": 3
      },
      "file_extension": ".py",
      "mimetype": "text/x-python",
      "name": "python",
      "nbconvert_exporter": "python",
      "pygments_lexer": "ipython3",
      "version": "3.9.10"
    }
  },
  "nbformat": 4,
  "nbformat_minor": 0
}
