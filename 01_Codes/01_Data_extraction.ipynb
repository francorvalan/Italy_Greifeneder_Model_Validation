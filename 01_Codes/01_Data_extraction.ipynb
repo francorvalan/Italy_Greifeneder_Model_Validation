{
 "cells": [
  {
   "attachments": {},
   "cell_type": "markdown",
   "metadata": {},
   "source": [
    "Felix Greifeneder Model Validation"
   ]
  },
  {
   "cell_type": "code",
   "execution_count": null,
   "metadata": {},
   "outputs": [],
   "source": [
    "# pip install ../../A_pysmm/pysmm_v02.zip"
   ]
  },
  {
   "cell_type": "code",
   "execution_count": 2,
   "metadata": {},
   "outputs": [
    {
     "name": "stderr",
     "output_type": "stream",
     "text": [
      "c:\\Users\\franc\\anaconda3\\envs\\Curso_PDIS\\lib\\site-packages\\geopandas\\_compat.py:111: UserWarning: The Shapely GEOS version (3.10.1-CAPI-1.16.0) is incompatible with the GEOS version PyGEOS was compiled with (3.10.3-CAPI-1.16.1). Conversions between both will be slow.\n",
      "  warnings.warn(\n"
     ]
    }
   ],
   "source": [
    "# PYthon Sentinel-1 soil-Moisture Mapping Toolbox (PYSMM)\n",
    "\n",
    "import pysmm\n",
    "from pysmm.derive_SM import get_ts\n",
    "\n",
    "import os\n",
    "import geopandas as gpd\n",
    "import ee"
   ]
  },
  {
   "cell_type": "code",
   "execution_count": 3,
   "metadata": {},
   "outputs": [
    {
     "data": {
      "text/html": [
       "<p>To authorize access needed by Earth Engine, open the following\n",
       "        URL in a web browser and follow the instructions:</p>\n",
       "        <p><a href=https://code.earthengine.google.com/client-auth?scopes=https%3A//www.googleapis.com/auth/earthengine%20https%3A//www.googleapis.com/auth/devstorage.full_control&request_id=QSaUryuWgiTR0dbJb_DTj9Z0LKnCAEvQQgIEaFV8ZqM&tc=43vgnm8RkwJZB0x-J9NffDDgM8L9JdcJx459NbkpMcA&cc=oBEYONtwMQ_6rlRbFnUk2em3Il02bgbDIhaxTjRoHbw>https://code.earthengine.google.com/client-auth?scopes=https%3A//www.googleapis.com/auth/earthengine%20https%3A//www.googleapis.com/auth/devstorage.full_control&request_id=QSaUryuWgiTR0dbJb_DTj9Z0LKnCAEvQQgIEaFV8ZqM&tc=43vgnm8RkwJZB0x-J9NffDDgM8L9JdcJx459NbkpMcA&cc=oBEYONtwMQ_6rlRbFnUk2em3Il02bgbDIhaxTjRoHbw</a></p>\n",
       "        <p>The authorization workflow will generate a code, which you should paste in the box below.</p>\n",
       "        "
      ],
      "text/plain": [
       "<IPython.core.display.HTML object>"
      ]
     },
     "metadata": {},
     "output_type": "display_data"
    },
    {
     "name": "stdout",
     "output_type": "stream",
     "text": [
      "\n",
      "Successfully saved authorization token.\n"
     ]
    }
   ],
   "source": [
    "# Trigger the authentication flow.\n",
    "ee.Authenticate()"
   ]
  },
  {
   "attachments": {},
   "cell_type": "markdown",
   "metadata": {},
   "source": [
    "To derive the soil moisture time-series of a single location use get_ts():"
   ]
  },
  {
   "cell_type": "code",
   "execution_count": 4,
   "metadata": {},
   "outputs": [],
   "source": [
    "# Read the shapefile\n",
    "Italy_Stations = gpd.read_file(\"../02_Data/03_Vector_data/Station_coordinates.shp\")\n",
    "# Sites ID\n",
    "\n",
    "ID_Site = Italy_Stations['Station_na']\n",
    "# Sites coordinates\n",
    "x=Italy_Stations.geometry.x\n",
    "y=Italy_Stations.geometry.y\n",
    "\n",
    "# List of tuples\n",
    "Sites = []\n",
    "for i in range(len(x)):\n",
    "    Sites.append((x[i],y[i]))"
   ]
  },
  {
   "cell_type": "code",
   "execution_count": 11,
   "metadata": {},
   "outputs": [],
   "source": [
    "output_dir = \"../02_Data/04_SMC_Estimations/\"\n",
    "os.makedirs(output_dir,exist_ok=True)\n",
    "for i in range(0,len(Sites),1): \n",
    "    try:\n",
    "        print(f'(SiteID_{ID_Site[i]})')\n",
    "        sm_ts = get_ts(loc=Sites[i],\n",
    "                    workpath=output_dir,\n",
    "                    tracknr=None,\n",
    "                    footprint=50,\n",
    "                    calc_anomalies=False,\n",
    "                    create_plots=False,\n",
    "                    names=None,\n",
    "                    export_csv=f'SiteID_{ID_Site[i]}'\n",
    "                    )\n",
    "    except: \n",
    "        pass"
   ]
  },
  {
   "cell_type": "code",
   "execution_count": 4,
   "metadata": {},
   "outputs": [
    {
     "name": "stderr",
     "output_type": "stream",
     "text": [
      "\n",
      "KeyboardInterrupt\n",
      "\n"
     ]
    }
   ],
   "source": [
    "from pysmm.derive_SM import get_map\n",
    "\n",
    "get_map(-62.4313071116802, -32.8352261485061, -62.2313071116802, -32.4352261485061,\n",
    "        \"../03_Results/Model_Estimations/Argentina_Sites/\",\n",
    "        sampling=200,                             # specify desired output resolution\n",
    "        year=2023, month=1, day=15,        # define a date (optional)\n",
    "        tracknr=None,                           # define the Sentinel-1 track (optinal)\n",
    "        overwrite=False,\n",
    "        start='2023-01-01',\n",
    "        stop='2023-01-30')   "
   ]
  },
  {
   "cell_type": "code",
   "execution_count": null,
   "metadata": {},
   "outputs": [],
   "source": [
    "class Person:\n",
    "  def __init__(mysillyobject, name, age):\n",
    "    mysillyobject.name = name\n",
    "    mysillyobject.age = age\n",
    "\n",
    "  def myfunc(abc):\n",
    "    print(f'Hello my name is {abc.name} I am {abc.age}')\n",
    "\n",
    "p1 = Person(\"John\", 36)\n",
    "p1.myfunc()"
   ]
  },
  {
   "cell_type": "code",
   "execution_count": null,
   "metadata": {},
   "outputs": [],
   "source": [
    "from unittest import TestCase\n",
    "import tempfile\n",
    "import os\n",
    "import pandas as pd\n",
    "\n",
    "from pysmm.GEE_wrappers import GEE_pt\n",
    "\n",
    "class TestGEEWrappers(TestCase):\n",
    "    def test_LC(self):\n",
    "        testlon = 12.31\n",
    "        testlat = 48.89\n",
    "        tempdir = tempfile.mkdtemp()\n",
    "        test_inst = GEE_pt(testlon, testlat, tempdir)\n",
    "        test_inst.extr_LC()\n",
    "        self.assertTrue(isinstance(test_inst.LC, float))\n",
    "        os.rmdir(tempdir)\n",
    "\n",
    "    def test_MOD13Q1(self):\n",
    "        testlon = 12.31\n",
    "        testlat = 48.89\n",
    "        tempdir = tempfile.mkdtemp()\n",
    "        test_inst = GEE_pt(testlon, testlat, tempdir)\n",
    "        test_ser = test_inst.extr_MODIS_MOD13Q1()\n",
    "        self.assertTrue(isinstance(test_ser, pd.Series))\n",
    "\n",
    "    # TODO complete tests for all methods in GEE_wrappers"
   ]
  }
 ],
 "metadata": {
  "kernelspec": {
   "display_name": "Curso_PDIS",
   "language": "python",
   "name": "python3"
  },
  "language_info": {
   "codemirror_mode": {
    "name": "ipython",
    "version": 3
   },
   "file_extension": ".py",
   "mimetype": "text/x-python",
   "name": "python",
   "nbconvert_exporter": "python",
   "pygments_lexer": "ipython3",
   "version": "3.9.10"
  },
  "orig_nbformat": 4
 },
 "nbformat": 4,
 "nbformat_minor": 2
}
