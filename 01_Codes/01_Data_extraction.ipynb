{
 "cells": [
  {
   "attachments": {},
   "cell_type": "markdown",
   "metadata": {},
   "source": [
    "Felix Greifeneder Model Validation"
   ]
  },
  {
   "cell_type": "code",
   "execution_count": null,
   "metadata": {},
   "outputs": [],
   "source": [
    "# pip install ../../../F_pysmm/pysmm_v02.zip"
   ]
  },
  {
   "cell_type": "code",
   "execution_count": 1,
   "metadata": {},
   "outputs": [],
   "source": [
    "# PYthon Sentinel-1 soil-Moisture Mapping Toolbox (PYSMM)\n",
    "\n",
    "import pysmm\n",
    "from pysmm.derive_SM import get_ts\n",
    "\n",
    "import os\n",
    "import geopandas as gpd\n",
    "import ee"
   ]
  },
  {
   "cell_type": "code",
   "execution_count": 2,
   "metadata": {},
   "outputs": [
    {
     "data": {
      "text/html": [
       "<p>To authorize access needed by Earth Engine, open the following\n",
       "        URL in a web browser and follow the instructions:</p>\n",
       "        <p><a href=https://code.earthengine.google.com/client-auth?scopes=https%3A//www.googleapis.com/auth/earthengine%20https%3A//www.googleapis.com/auth/devstorage.full_control&request_id=4DBYTQpPNRjIgiuheBxKBg0ys7Os0G5woUsZOU-IibU&tc=1IesGbquiXD6qEDBUniQ7nsSTguK7aIxkQUWET_M2gY&cc=RfbIe79yQy8LfHViO96m9ytzZA8M_J7BxcyLvM1yWjE>https://code.earthengine.google.com/client-auth?scopes=https%3A//www.googleapis.com/auth/earthengine%20https%3A//www.googleapis.com/auth/devstorage.full_control&request_id=4DBYTQpPNRjIgiuheBxKBg0ys7Os0G5woUsZOU-IibU&tc=1IesGbquiXD6qEDBUniQ7nsSTguK7aIxkQUWET_M2gY&cc=RfbIe79yQy8LfHViO96m9ytzZA8M_J7BxcyLvM1yWjE</a></p>\n",
       "        <p>The authorization workflow will generate a code, which you should paste in the box below.</p>\n",
       "        "
      ],
      "text/plain": [
       "<IPython.core.display.HTML object>"
      ]
     },
     "metadata": {},
     "output_type": "display_data"
    },
    {
     "name": "stdout",
     "output_type": "stream",
     "text": [
      "\n",
      "Successfully saved authorization token.\n"
     ]
    }
   ],
   "source": [
    "# Trigger the authentication flow.\n",
    "ee.Authenticate()"
   ]
  },
  {
   "attachments": {},
   "cell_type": "markdown",
   "metadata": {},
   "source": [
    "To derive the soil moisture time-series of a single location use get_ts():"
   ]
  },
  {
   "cell_type": "code",
   "execution_count": 3,
   "metadata": {},
   "outputs": [],
   "source": [
    "# Read the shapefile\n",
    "Italy_Stations = gpd.read_file(\"../02_Data/03_Vector_data/Station_coordinates.shp\")\n",
    "# Sites ID\n",
    "\n",
    "ID_Site = Italy_Stations['Station_na']\n",
    "# Sites coordinates\n",
    "x=Italy_Stations.geometry.x\n",
    "y=Italy_Stations.geometry.y\n",
    "\n",
    "# List of tuples\n",
    "Sites = []\n",
    "for i in range(len(x)):\n",
    "    Sites.append((x[i],y[i]))"
   ]
  },
  {
   "cell_type": "code",
   "execution_count": null,
   "metadata": {},
   "outputs": [],
   "source": [
    "output_dir = \"../02_Data/04_SMC_Estimations/get_ts\"\n",
    "os.makedirs(output_dir,exist_ok=True)\n",
    "footprints = [20,50,100,200,500]\n",
    "for f in footprints:\n",
    "    footprint_dir = f'{output_dir}/{f}/'\n",
    "    os.makedirs(footprint_dir,exist_ok=True)   \n",
    "    for i in range(0,len(Sites),1): \n",
    "        print(f'SiteID_{ID_Site[i]}_{f}_m')\n",
    "        try:\n",
    "            print(f'(SiteID_{ID_Site[i]})')\n",
    "            get_ts(loc=Sites[i],\n",
    "                        workpath=footprint_dir,\n",
    "                        tracknr=None,\n",
    "                        footprint=f,\n",
    "                        calc_anomalies=False,\n",
    "                        create_plots=False,\n",
    "                        names=None,\n",
    "                        export_csv=f'SiteID_{ID_Site[i]}_{f}_m'\n",
    "                        )\n",
    "        except: \n",
    "            pass"
   ]
  },
  {
   "cell_type": "code",
   "execution_count": null,
   "metadata": {},
   "outputs": [],
   "source": [
    "from pysmm.derive_SM import get_map\n",
    "output_dir = \"./GM\"\n",
    "\n",
    "os.makedirs(output_dir,exist_ok=True)\n",
    "\n",
    "get_map(10.0084677 , 46.00188957, 11.0101193,  47.50016752,\n",
    "        outpath=output_dir,\n",
    "        sampling=100,                             # specify desired output resolution\n",
    "        year=None, month=None, day=None,        # define a date (optional)\n",
    "        tracknr=168,                           # define the Sentinel-1 track (optinal)\n",
    "        overwrite=False,\n",
    "        start='2018-01-01',\n",
    "        stop='2021-01-30')   "
   ]
  }
 ],
 "metadata": {
  "kernelspec": {
   "display_name": "Curso_PDIS",
   "language": "python",
   "name": "python3"
  },
  "language_info": {
   "codemirror_mode": {
    "name": "ipython",
    "version": 3
   },
   "file_extension": ".py",
   "mimetype": "text/x-python",
   "name": "python",
   "nbconvert_exporter": "python",
   "pygments_lexer": "ipython3",
   "version": "3.9.10"
  },
  "orig_nbformat": 4
 },
 "nbformat": 4,
 "nbformat_minor": 2
}
